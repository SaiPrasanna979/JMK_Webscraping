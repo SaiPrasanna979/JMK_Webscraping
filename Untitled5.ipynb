{
 "cells": [
  {
   "cell_type": "code",
   "execution_count": null,
   "id": "48491e30-dd25-4182-858d-de04b1b45336",
   "metadata": {},
   "outputs": [],
   "source": [
    "print('Jai Maa Kali_/\\_')"
   ]
  },
  {
   "cell_type": "code",
   "execution_count": null,
   "id": "bd77bf86-1ef5-4a7a-82b7-fe8d2d58bf9f",
   "metadata": {},
   "outputs": [],
   "source": [
    "from selenium import webdriver"
   ]
  },
  {
   "cell_type": "code",
   "execution_count": null,
   "id": "1b118d90-f7b1-450d-a45f-48beac7c4653",
   "metadata": {},
   "outputs": [],
   "source": [
    "import pandas as pd"
   ]
  },
  {
   "cell_type": "code",
   "execution_count": null,
   "id": "b88228ec-0f51-42cb-a3c4-43279bf32445",
   "metadata": {},
   "outputs": [],
   "source": [
    "from selenium.webdriver.common.by import By"
   ]
  },
  {
   "cell_type": "code",
   "execution_count": null,
   "id": "00b7c958-164d-4779-b66f-56c198f0b4ae",
   "metadata": {},
   "outputs": [],
   "source": [
    "import warnings"
   ]
  },
  {
   "cell_type": "code",
   "execution_count": null,
   "id": "d9436b3d-083d-4405-a9de-208694c64cf1",
   "metadata": {},
   "outputs": [],
   "source": [
    "warnings.filterwarnings('ignore')"
   ]
  },
  {
   "cell_type": "code",
   "execution_count": null,
   "id": "9efefe38-0ca5-4cf4-ba23-0a907eb251e0",
   "metadata": {},
   "outputs": [],
   "source": [
    "url='https://nreganarep.nic.in/netnrega/app_issue.aspx?page=s&lflag=eng&state_name=ANDHRA%20PRADESH&state_code=02&fin_year=2024-2025&source=national&Digest=MPAE1Gu5xzz3Cyx6tZOVdw'"
   ]
  },
  {
   "cell_type": "code",
   "execution_count": null,
   "id": "d07ea846-cbff-4b53-a89a-052971a2aae0",
   "metadata": {},
   "outputs": [],
   "source": [
    "d=webdriver.Chrome()"
   ]
  },
  {
   "cell_type": "code",
   "execution_count": null,
   "id": "db9be7ca-6839-4b3d-97cd-be8666a0fe85",
   "metadata": {},
   "outputs": [],
   "source": [
    "d.get(url)"
   ]
  },
  {
   "cell_type": "code",
   "execution_count": null,
   "id": "4a7a0472-e0d1-4cf6-9cb6-c973734a3677",
   "metadata": {},
   "outputs": [],
   "source": [
    "z=d.find_elements(By.TAG_NAME,'tr')"
   ]
  },
  {
   "cell_type": "code",
   "execution_count": null,
   "id": "781a0b29-281b-4666-a0e6-a1d7fa9e3cf5",
   "metadata": {},
   "outputs": [],
   "source": [
    "for i in z:\n",
    "    print(i.text)"
   ]
  },
  {
   "cell_type": "code",
   "execution_count": null,
   "id": "1d3d38ce-0a80-4d62-875f-524b347b3d85",
   "metadata": {},
   "outputs": [],
   "source": [
    "title=d.find_element(By.XPATH,'//span[@id=\"ContentPlaceHolder1_lbl_head\"]').text\n",
    "print(title)\n",
    "import re\n",
    "sd=re.findall(\"District : ([^\\n]+)\",title)\n",
    "sd"
   ]
  },
  {
   "cell_type": "code",
   "execution_count": null,
   "id": "217f2808-ffcd-4d28-b8cc-7cbb9272ea65",
   "metadata": {},
   "outputs": [],
   "source": [
    "col=['State','District','S.No','Blocks','Number of Jobcards applied','Number of Jobcards issued','Registered Workers SCs','Registered Workers STs',\n",
    "     'Registered Workers others','Registered Workers Total Workers','Registered Workers Women','Number of Active Job Cards',\n",
    "     'Active Workers SCs','Active Workers STs',\n",
    "     'Active Workers others','Active Workers Total Workers','Active Workers Women']"
   ]
  },
  {
   "cell_type": "code",
   "execution_count": null,
   "id": "567ee6cf-2367-4c3d-b9e0-0137ead36d4c",
   "metadata": {},
   "outputs": [],
   "source": [
    "df=pd.DataFrame(columns=col)\n",
    "df"
   ]
  },
  {
   "cell_type": "code",
   "execution_count": null,
   "id": "d4b05831-e913-4156-8167-c9c02f8b0ce8",
   "metadata": {},
   "outputs": [],
   "source": [
    "for i in z:\n",
    "    cv=i.find_elements(By.TAG_NAME,'td')\n",
    "    lx=[k.text for k in cv]\n",
    "    fg=len(lx)\n",
    "    title=d.find_element(By.XPATH,'//span[@id=\"ContentPlaceHolder1_lbl_head\"]').text\n",
    "    district=re.findall(\"District : ([^\\n]+)\",title)\n",
    "    state=re.findall('State: ([^\\n]+)D',title)\n",
    "\n",
    "    if fg==15:\n",
    "        g=len(df)\n",
    "        cvs=state+district+lx\n",
    "        df.loc[g]=cvs\n",
    "df.drop(index=0)\n",
    "    "
   ]
  },
  {
   "cell_type": "code",
   "execution_count": null,
   "id": "6d1dfdf2-cde7-4d1c-8169-82a8686f78dd",
   "metadata": {},
   "outputs": [],
   "source": [
    "df"
   ]
  },
  {
   "cell_type": "code",
   "execution_count": null,
   "id": "ea5f7f3e-74a3-4d10-abd1-6d947d75bba1",
   "metadata": {},
   "outputs": [],
   "source": [
    "title=d.find_element(By.XPATH,'//span[@id=\"ContentPlaceHolder1_lbl_head\"]').text"
   ]
  },
  {
   "cell_type": "code",
   "execution_count": null,
   "id": "d5f54bc5-9ce7-4193-bb6d-9ee319d0f250",
   "metadata": {},
   "outputs": [],
   "source": [
    "title"
   ]
  },
  {
   "cell_type": "code",
   "execution_count": null,
   "id": "5e57bae2-f0b5-4015-95e8-c73a55afdd0a",
   "metadata": {},
   "outputs": [],
   "source": [
    "links=d.find_elements(By.TAG_NAME,'a')"
   ]
  },
  {
   "cell_type": "code",
   "execution_count": null,
   "id": "33ff11a6-e172-4a83-87f2-add1ee64ac3d",
   "metadata": {},
   "outputs": [],
   "source": [
    "ls=[]\n",
    "for i in links[4:]:\n",
    "    ls.append(i.get_attribute('href'))"
   ]
  },
  {
   "cell_type": "code",
   "execution_count": null,
   "id": "f4610ca0-f0cb-4992-92f8-fa2e8af47025",
   "metadata": {
    "scrolled": true
   },
   "outputs": [],
   "source": [
    "len(ls)"
   ]
  },
  {
   "cell_type": "code",
   "execution_count": null,
   "id": "2a3739c9-8245-4564-92ea-0b471e12a7bd",
   "metadata": {},
   "outputs": [],
   "source": [
    "import validators"
   ]
  },
  {
   "cell_type": "code",
   "execution_count": null,
   "id": "f9538449-17ca-47ec-b7b2-e7720c85aea4",
   "metadata": {},
   "outputs": [],
   "source": [
    "vu=[t for t in ls if validators.url(t)]"
   ]
  },
  {
   "cell_type": "code",
   "execution_count": null,
   "id": "18889ba8-2f55-4a47-a70a-cd358772acf7",
   "metadata": {},
   "outputs": [],
   "source": [
    "len(vu)"
   ]
  },
  {
   "cell_type": "code",
   "execution_count": null,
   "id": "6cb15081-a777-43ab-b58d-f7b108f9fd2b",
   "metadata": {},
   "outputs": [],
   "source": [
    "for h,i in enumerate(vu):\n",
    "    d.get(i)\n",
    "    z=d.find_elements(By.TAG_NAME,'tr')\n",
    "    col=['S.No','Districts','Number of Jobcards applied','Number of Jobcards issued','Registered Workers SCs','Registered Workers STs',\n",
    "     'Registered Workers others','Registered Workers Total Workers','Registered Workers Women','Number of Active Job Cards',\n",
    "     'Active Workers SCs','Active Workers STs',\n",
    "     'Active Workers others','Active Workers Total Workers','Active Workers Women']\n",
    "    df=pd.DataFrame(columns=col)\n",
    "    for m in z:\n",
    "        cv=m.find_elements(By.TAG_NAME,'td')\n",
    "        lx=[k.text for k in cv]\n",
    "        fg=len(lx)\n",
    "        if fg==15:\n",
    "            g=len(df)\n",
    "            df.loc[g]=lx\n",
    "    title=d.find_element(By.XPATH,'//span[@id=\"ContentPlaceHolder1_lbl_head\"]').text\n",
    "    dir='C:\\\\Users\\\\barad\\\\OneDrive\\\\Desktop\\\\JMK\\\\Districts'\n",
    "    file_name = f\"jmk{h}.csv\"\n",
    "    dfs=os.path.join(dir,file_name)\n",
    "    df.to_csv(dfs,index=False)\n",
    "    with open (dfs,\"w\",newline=\"\") as f:\n",
    "        f.write(title + \"\\n\")\n",
    "        df.to_csv(f,index=False,header=True)#appends to file f\n",
    "    \n",
    "    "
   ]
  },
  {
   "cell_type": "code",
   "execution_count": null,
   "id": "05233ee5-2942-4991-bb44-08101bcfd243",
   "metadata": {},
   "outputs": [],
   "source": [
    "import os"
   ]
  },
  {
   "cell_type": "code",
   "execution_count": null,
   "id": "7256ffc0-5971-404e-92d6-338db4e4c212",
   "metadata": {},
   "outputs": [],
   "source": []
  }
 ],
 "metadata": {
  "kernelspec": {
   "display_name": "Python 3 (ipykernel)",
   "language": "python",
   "name": "python3"
  },
  "language_info": {
   "codemirror_mode": {
    "name": "ipython",
    "version": 3
   },
   "file_extension": ".py",
   "mimetype": "text/x-python",
   "name": "python",
   "nbconvert_exporter": "python",
   "pygments_lexer": "ipython3",
   "version": "3.12.7"
  }
 },
 "nbformat": 4,
 "nbformat_minor": 5
}
