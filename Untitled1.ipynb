{
 "cells": [
  {
   "cell_type": "code",
   "execution_count": 18,
   "id": "193fd3d1-aa4a-4cea-901c-c5f328b50882",
   "metadata": {},
   "outputs": [
    {
     "name": "stdout",
     "output_type": "stream",
     "text": [
      "Jai Maa Kali_/\\_\n"
     ]
    }
   ],
   "source": [
    "print('Jai Maa Kali_/\\_')"
   ]
  },
  {
   "cell_type": "code",
   "execution_count": 19,
   "id": "04394d98-1611-4d5a-86d4-dceba2bc452c",
   "metadata": {},
   "outputs": [],
   "source": [
    "import warnings\n",
    "import pandas as pd"
   ]
  },
  {
   "cell_type": "code",
   "execution_count": 20,
   "id": "b66b4f65-fb05-4406-b762-47dfea0af324",
   "metadata": {},
   "outputs": [],
   "source": [
    "warnings.filterwarnings('ignore')"
   ]
  },
  {
   "cell_type": "code",
   "execution_count": 21,
   "id": "44076135-da06-4f12-b377-901ddf25bcd6",
   "metadata": {},
   "outputs": [],
   "source": [
    "from selenium.webdriver.common.by import By"
   ]
  },
  {
   "cell_type": "code",
   "execution_count": 22,
   "id": "cbd50f83-956d-40fd-a073-75d5ca548400",
   "metadata": {},
   "outputs": [],
   "source": [
    "from selenium import webdriver"
   ]
  },
  {
   "cell_type": "code",
   "execution_count": 23,
   "id": "22e44ea4-8464-4578-b84c-e9f311989b2a",
   "metadata": {},
   "outputs": [],
   "source": [
    "import time\n",
    "from selenium.webdriver.support.ui import Select"
   ]
  },
  {
   "cell_type": "code",
   "execution_count": 41,
   "id": "08cde170-2c67-44b0-81fd-1f62736ac634",
   "metadata": {},
   "outputs": [],
   "source": [
    "from selenium import webdriver\n",
    "from selenium.webdriver.chrome.options import Options\n",
    "from selenium.webdriver.common.by import By\n",
    "import time\n",
    "import os\n",
    "# Initialize the Chrome WebDriver with the above options\n",
    "driver = webdriver.Chrome()\n",
    "\n",
    "# Navigate to the page containing the download button\n",
    "driver.get(\"https://mnregaweb2.nic.in/netnrega/dynamic_account_details_ippe.aspx\") \n",
    "# Replace with the actual URL of the page with the download button"
   ]
  },
  {
   "cell_type": "code",
   "execution_count": 39,
   "id": "3578b1eb-3dbe-4894-a321-eceed7b1b380",
   "metadata": {},
   "outputs": [],
   "source": [
    "m=driver.find_elements(By.TAG_NAME, 'table')"
   ]
  },
  {
   "cell_type": "code",
   "execution_count": null,
   "id": "d7930f90-e4f9-4eb9-b51e-01bda603d2ef",
   "metadata": {},
   "outputs": [],
   "source": []
  },
  {
   "cell_type": "code",
   "execution_count": null,
   "id": "3fbfe228-164f-4208-966f-7b6842806df6",
   "metadata": {},
   "outputs": [],
   "source": [
    "for i,j in enumerate(m):\n",
    "    pd.\n",
    "    "
   ]
  },
  {
   "cell_type": "code",
   "execution_count": 37,
   "id": "2e21f4b8-ddae-41f4-99bc-77b38c295bb9",
   "metadata": {},
   "outputs": [
    {
     "name": "stdout",
     "output_type": "stream",
     "text": [
      "Table 1 saved as \"table_1.csv\"\n",
      "Table 2 saved as \"table_2.csv\"\n",
      "Table 3 saved as \"table_3.csv\"\n",
      "Table 4 saved as \"table_4.csv\"\n",
      "Table 5 saved as \"table_5.csv\"\n",
      "Table 6 saved as \"table_6.csv\"\n"
     ]
    }
   ],
   "source": [
    "for i, table in enumerate(m):\n",
    "    table_html = table.get_attribute('outerHTML')\n",
    "    \n",
    "    # Step 6: Convert the HTML table to a DataFrame using Pandas\n",
    "    df = pd.read_html(table_html)[0]\n",
    "    \n",
    "    # Step 7: Save the DataFrame to a CSV file\n",
    "    df.to_csv(f'table_{i+1}.csv', index=False)\n",
    "    print(f'Table {i+1} saved as \"table_{i+1}.csv\"')\n",
    "    "
   ]
  },
  {
   "cell_type": "code",
   "execution_count": null,
   "id": "92720b7c-e907-4b9e-8148-2b129200cd79",
   "metadata": {},
   "outputs": [],
   "source": []
  },
  {
   "cell_type": "code",
   "execution_count": null,
   "id": "7dc3bb24-1bf5-426e-bb5a-a52bd936398f",
   "metadata": {},
   "outputs": [],
   "source": []
  },
  {
   "cell_type": "code",
   "execution_count": null,
   "id": "c5d3d9e1-d0ce-4f64-981e-e002a0c78082",
   "metadata": {},
   "outputs": [],
   "source": []
  },
  {
   "cell_type": "code",
   "execution_count": null,
   "id": "1bae5327-1f39-416b-808f-7e00877b0d5e",
   "metadata": {},
   "outputs": [],
   "source": []
  },
  {
   "cell_type": "code",
   "execution_count": null,
   "id": "eee01947-f7cb-43ad-8a99-40d7d2909657",
   "metadata": {},
   "outputs": [],
   "source": []
  },
  {
   "cell_type": "code",
   "execution_count": null,
   "id": "0eb5c222-2aa2-4117-ad53-e17db9451d7c",
   "metadata": {},
   "outputs": [],
   "source": []
  },
  {
   "cell_type": "code",
   "execution_count": null,
   "id": "c969e365-0843-4c9b-be09-404764508ae4",
   "metadata": {},
   "outputs": [],
   "source": []
  },
  {
   "cell_type": "code",
   "execution_count": null,
   "id": "7809323b-3f74-45bc-9ac4-b90cdb370174",
   "metadata": {},
   "outputs": [],
   "source": []
  },
  {
   "cell_type": "code",
   "execution_count": null,
   "id": "ee6ff9ff-9e93-4dfa-bd48-00dc1781a2d4",
   "metadata": {},
   "outputs": [],
   "source": []
  },
  {
   "cell_type": "code",
   "execution_count": 8,
   "id": "08fbcd75-6073-4125-a940-dc8bcfd49523",
   "metadata": {},
   "outputs": [],
   "source": [
    "current_url = driver.current_url"
   ]
  },
  {
   "cell_type": "code",
   "execution_count": 12,
   "id": "d18ab967-2b47-4576-84ef-12ec746b25f6",
   "metadata": {},
   "outputs": [],
   "source": [
    "\n",
    "tables = pd.read_html(current_url)"
   ]
  },
  {
   "cell_type": "code",
   "execution_count": 13,
   "id": "a9eecc22-937d-464b-81cb-7185b1c65af5",
   "metadata": {},
   "outputs": [
    {
     "name": "stdout",
     "output_type": "stream",
     "text": [
      "6\n"
     ]
    }
   ],
   "source": [
    "print(len(tables))"
   ]
  },
  {
   "cell_type": "code",
   "execution_count": 96,
   "id": "d8daa286-511b-4bbf-9afa-d47811a580ed",
   "metadata": {},
   "outputs": [],
   "source": [
    "#import os"
   ]
  },
  {
   "cell_type": "code",
   "execution_count": 109,
   "id": "2e5dc593-ad0b-4fa7-ae5b-85430cf45569",
   "metadata": {},
   "outputs": [],
   "source": [
    "folder_path = \"C:/Users/barad/OneDrive/Desktop/MNREGA\" "
   ]
  },
  {
   "cell_type": "code",
   "execution_count": 110,
   "id": "d4f4e416-e089-4c55-b304-f81d5d3e84af",
   "metadata": {},
   "outputs": [],
   "source": [
    "csv_path = os.path.join(folder_path, \"table_data.csv\")\n",
    "\n",
    "#scraped[4].to_csv(csv_path, index=False)"
   ]
  },
  {
   "cell_type": "code",
   "execution_count": 111,
   "id": "8a538d41-d72f-40c4-b09f-152e79e254be",
   "metadata": {},
   "outputs": [],
   "source": [
    "for i,j in enumerate(tables):\n",
    "    csvfp=f\"table_{i+1}.csv\"\n",
    "    csv_path = os.path.join(folder_path, csvfp)\n",
    "    j.to_csv(csv_path,index=False)"
   ]
  },
  {
   "cell_type": "code",
   "execution_count": null,
   "id": "329fdf8c-e316-4298-9606-2602701bfd26",
   "metadata": {},
   "outputs": [],
   "source": []
  },
  {
   "cell_type": "code",
   "execution_count": null,
   "id": "1af8b009-484f-4075-a94a-2372935591c2",
   "metadata": {},
   "outputs": [],
   "source": []
  }
 ],
 "metadata": {
  "kernelspec": {
   "display_name": "Python 3 (ipykernel)",
   "language": "python",
   "name": "python3"
  },
  "language_info": {
   "codemirror_mode": {
    "name": "ipython",
    "version": 3
   },
   "file_extension": ".py",
   "mimetype": "text/x-python",
   "name": "python",
   "nbconvert_exporter": "python",
   "pygments_lexer": "ipython3",
   "version": "3.12.7"
  }
 },
 "nbformat": 4,
 "nbformat_minor": 5
}
