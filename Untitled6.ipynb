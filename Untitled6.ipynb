{
 "cells": [
  {
   "cell_type": "code",
   "execution_count": 99,
   "id": "e305eda6-d688-472f-97e3-7b648eb34d56",
   "metadata": {},
   "outputs": [
    {
     "name": "stdout",
     "output_type": "stream",
     "text": [
      "Jai Maa Kali_/\\_\n"
     ]
    }
   ],
   "source": [
    "print('Jai Maa Kali_/\\_')"
   ]
  },
  {
   "cell_type": "code",
   "execution_count": 100,
   "id": "0e36ea98-d037-4c9c-84a5-f32dd7fe2d9d",
   "metadata": {},
   "outputs": [],
   "source": [
    "import warnings"
   ]
  },
  {
   "cell_type": "code",
   "execution_count": 101,
   "id": "150fd57d-f8eb-4f58-b981-81d092f6c4b3",
   "metadata": {},
   "outputs": [],
   "source": [
    "warnings.filterwarnings('ignore')"
   ]
  },
  {
   "cell_type": "code",
   "execution_count": 102,
   "id": "6cdec025-6d91-4a2f-b52f-dea0a6ac17de",
   "metadata": {},
   "outputs": [],
   "source": [
    "from selenium import webdriver\n",
    "import pandas as pd\n",
    "from selenium.webdriver.common.by import By"
   ]
  },
  {
   "cell_type": "code",
   "execution_count": 103,
   "id": "bbffd0cf-eeb0-4e18-b08f-8601a629867f",
   "metadata": {},
   "outputs": [],
   "source": [
    "url='https://nreganarep.nic.in/netnrega/app_issue.aspx?page=s&lflag=eng&state_name=ANDHRA%20PRADESH&state_code=02&fin_year=2024-2025&source=national&Digest=MPAE1Gu5xzz3Cyx6tZOVdw'"
   ]
  },
  {
   "cell_type": "code",
   "execution_count": 104,
   "id": "dd5bb8fd-03e4-40d2-8575-e27f857af066",
   "metadata": {},
   "outputs": [],
   "source": [
    "d=webdriver.Chrome()"
   ]
  },
  {
   "cell_type": "code",
   "execution_count": 105,
   "id": "64258a81-06cb-483a-899e-64106ac57701",
   "metadata": {},
   "outputs": [],
   "source": [
    "d.get(url)"
   ]
  },
  {
   "cell_type": "code",
   "execution_count": 106,
   "id": "d2f287e1-4add-4e3e-94d5-a5a51e182f5f",
   "metadata": {},
   "outputs": [],
   "source": [
    "links=d.find_elements(By.TAG_NAME,'a')"
   ]
  },
  {
   "cell_type": "code",
   "execution_count": 107,
   "id": "77e95574-4bac-4ba6-8683-fc7f4c202131",
   "metadata": {},
   "outputs": [],
   "source": [
    "ls=[]\n",
    "for i in links[4:]:\n",
    "    ls.append(i.get_attribute('href'))"
   ]
  },
  {
   "cell_type": "code",
   "execution_count": 114,
   "id": "cd96fa3a-1402-4b30-b992-01433d06e702",
   "metadata": {},
   "outputs": [],
   "source": [
    "#lu"
   ]
  },
  {
   "cell_type": "code",
   "execution_count": 111,
   "id": "efaaee56-d231-410d-884b-9f566b02d915",
   "metadata": {},
   "outputs": [],
   "source": [
    "import validators\n",
    "import re\n",
    "import os"
   ]
  },
  {
   "cell_type": "code",
   "execution_count": 112,
   "id": "e193f0b2-e09f-4e64-8b13-25474a8baddc",
   "metadata": {},
   "outputs": [],
   "source": [
    "vu=[t for t in ls if validators.url(t)]"
   ]
  },
  {
   "cell_type": "code",
   "execution_count": 115,
   "id": "b7a0c080-f5f1-4adf-9bb5-b0b46eb3be07",
   "metadata": {},
   "outputs": [],
   "source": [
    "def blocks(url):\n",
    "    d.get(url)\n",
    "    col=['State','District','S.No','Blocks','Number of Jobcards applied','Number of Jobcards issued','Registered Workers SCs','Registered Workers STs',\n",
    "     'Registered Workers others','Registered Workers Total Workers','Registered Workers Women','Number of Active Job Cards',\n",
    "     'Active Workers SCs','Active Workers STs',\n",
    "     'Active Workers others','Active Workers Total Workers','Active Workers Women']\n",
    "    z=d.find_elements(By.TAG_NAME,'tr')\n",
    "    title=d.find_element(By.XPATH,'//span[@id=\"ContentPlaceHolder1_lbl_head\"]').text\n",
    "    district=re.findall(\"District : ([^\\n]+)\",title)\n",
    "    state=re.findall('State: ([^\\n]+)D',title)\n",
    "    df=pd.DataFrame(columns=col)\n",
    "    for m in z:\n",
    "        cv=m.find_elements(By.TAG_NAME,'td')\n",
    "        lx=[k.text for k in cv]\n",
    "        fg=len(lx)\n",
    "        if fg==15:\n",
    "            g=len(df)\n",
    "            cvs=state+district+lx\n",
    "            df.loc[g]=cvs\n",
    "    df.drop(index=0,inplace=True)\n",
    "    dir='C:\\\\Users\\\\barad\\\\OneDrive\\\\Desktop\\\\JMK\\\\Districts'\n",
    "    file_name = district[0]+f\".csv\"\n",
    "    dfs=os.path.join(dir,file_name)\n",
    "    df.to_csv(dfs,index=False)\n",
    "    "
   ]
  },
  {
   "cell_type": "code",
   "execution_count": 116,
   "id": "dfa8bb99-78d2-496b-835c-092134909bee",
   "metadata": {},
   "outputs": [],
   "source": [
    "for i in vu:\n",
    "    blocks(i)"
   ]
  },
  {
   "cell_type": "code",
   "execution_count": 118,
   "id": "61f0d799-8750-4320-8964-6e1a4822495b",
   "metadata": {},
   "outputs": [
    {
     "data": {
      "text/plain": [
       "26"
      ]
     },
     "execution_count": 118,
     "metadata": {},
     "output_type": "execute_result"
    }
   ],
   "source": [
    "len(vu)"
   ]
  },
  {
   "cell_type": "code",
   "execution_count": 119,
   "id": "8a58b1e8-dbd6-4824-b253-dabead16cae9",
   "metadata": {},
   "outputs": [],
   "source": [
    "def panchayats(url):\n",
    "    d.get(url)\n",
    "    col=['State','District','block','S.No','Panchayats','Number of Jobcards applied','Number of Jobcards issued','Registered Workers SCs','Registered Workers STs',\n",
    "     'Registered Workers others','Registered Workers Total Workers','Registered Workers Women','Number of Active Job Cards',\n",
    "     'Active Workers SCs','Active Workers STs',\n",
    "     'Active Workers others','Active Workers Total Workers','Active Workers Women']\n",
    "    z=d.find_elements(By.TAG_NAME,'tr')\n",
    "    title=d.find_element(By.XPATH,'//span[@id=\"ContentPlaceHolder1_lbl_head\"]').text\n",
    "    district=re.findall(\"District : ([^\\n]+)B\",title)\n",
    "    state=re.findall('State: ([^\\n]+)D',title)\n",
    "    block=re.findall('Block :([^\\n]+)',title)\n",
    "    df=pd.DataFrame(columns=col)\n",
    "    for m in z:\n",
    "        cv=m.find_elements(By.TAG_NAME,'td')\n",
    "        lx=[k.text for k in cv]\n",
    "        fg=len(lx)\n",
    "        if fg==15:\n",
    "            g=len(df)\n",
    "            cvs=state+district+block+lx\n",
    "            df.loc[g]=cvs\n",
    "    df.drop(index=0,inplace=True)\n",
    "    dir='C:\\\\Users\\\\barad\\\\OneDrive\\\\Desktop\\\\JMK\\\\Blocks'\n",
    "    file_name = block[0]+f\".csv\"\n",
    "    dfs=os.path.join(dir,file_name)\n",
    "    df.to_csv(dfs,index=False)\n",
    "    #return df\n",
    "    "
   ]
  },
  {
   "cell_type": "code",
   "execution_count": 120,
   "id": "a630c7e5-0984-4981-86f2-e0c9e45a2936",
   "metadata": {},
   "outputs": [],
   "source": [
    "d.get('https://nreganarep.nic.in/netnrega/app_issue.aspx?page=s&lflag=eng&state_name=ANDHRA%20PRADESH&state_code=02&fin_year=2024-2025&source=national&Digest=MPAE1Gu5xzz3Cyx6tZOVdw')"
   ]
  },
  {
   "cell_type": "code",
   "execution_count": 121,
   "id": "88f8652d-3721-4de2-895e-0e1ebd774e0e",
   "metadata": {},
   "outputs": [],
   "source": [
    "links=d.find_elements(By.TAG_NAME,'a')\n",
    "ls=[]\n",
    "for i in links[4:]:\n",
    "    ls.append(i.get_attribute('href'))"
   ]
  },
  {
   "cell_type": "code",
   "execution_count": 122,
   "id": "8d8d3851-04de-40d3-9b38-9290a593fbf5",
   "metadata": {},
   "outputs": [],
   "source": [
    "vu=[t for t in ls if validators.url(t)]"
   ]
  },
  {
   "cell_type": "code",
   "execution_count": 123,
   "id": "f0da65a6-57d4-44c7-a091-7923fc8f5bac",
   "metadata": {},
   "outputs": [],
   "source": [
    "def fun(url):\n",
    "    d.get(url)\n",
    "    links=d.find_elements(By.TAG_NAME,'a')\n",
    "    ls=[]\n",
    "    for i in links[4:]:\n",
    "        ls.append(i.get_attribute('href'))\n",
    "    vus=[t for t in ls if validators.url(t)]\n",
    "    for j in vus:\n",
    "        panchayats(j)\n",
    "    "
   ]
  },
  {
   "cell_type": "code",
   "execution_count": 124,
   "id": "c04d72ef-ad38-4f5f-8dc8-a21432cfedbe",
   "metadata": {},
   "outputs": [],
   "source": [
    "for i in vu:\n",
    "    fun(i)"
   ]
  },
  {
   "cell_type": "code",
   "execution_count": 125,
   "id": "d74ae77d-22f4-4abf-bd13-188040e2ac7c",
   "metadata": {},
   "outputs": [],
   "source": [
    "#for Panchayats"
   ]
  },
  {
   "cell_type": "code",
   "execution_count": null,
   "id": "d1b964b4-191c-4b0e-a8f1-83cf0d733188",
   "metadata": {},
   "outputs": [],
   "source": [
    "url=''\n",
    "d.get(url)\n",
    "links=d.find_elements(By.TAG_NAME,'a')\n",
    "links=[i.get_attribute('href') for i in links]"
   ]
  },
  {
   "cell_type": "code",
   "execution_count": null,
   "id": "0ade1618-ba1a-4a31-8f5d-a8f4608737e1",
   "metadata": {},
   "outputs": [],
   "source": []
  }
 ],
 "metadata": {
  "kernelspec": {
   "display_name": "Python 3 (ipykernel)",
   "language": "python",
   "name": "python3"
  },
  "language_info": {
   "codemirror_mode": {
    "name": "ipython",
    "version": 3
   },
   "file_extension": ".py",
   "mimetype": "text/x-python",
   "name": "python",
   "nbconvert_exporter": "python",
   "pygments_lexer": "ipython3",
   "version": "3.12.7"
  }
 },
 "nbformat": 4,
 "nbformat_minor": 5
}
