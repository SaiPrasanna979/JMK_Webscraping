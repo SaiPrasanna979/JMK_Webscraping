{
 "cells": [
  {
   "cell_type": "code",
   "execution_count": 1,
   "id": "f8cdfd73-3298-4dc7-a32f-9269dccab2d5",
   "metadata": {},
   "outputs": [
    {
     "name": "stdout",
     "output_type": "stream",
     "text": [
      "Jai Maa Kali_/\\_\n"
     ]
    },
    {
     "name": "stderr",
     "output_type": "stream",
     "text": [
      "<>:1: SyntaxWarning: invalid escape sequence '\\_'\n",
      "<>:1: SyntaxWarning: invalid escape sequence '\\_'\n",
      "C:\\Users\\barad\\AppData\\Local\\Temp\\ipykernel_10104\\2338759233.py:1: SyntaxWarning: invalid escape sequence '\\_'\n",
      "  print('Jai Maa Kali_/\\_')\n"
     ]
    }
   ],
   "source": [
    "print('Jai Maa Kali_/\\_')"
   ]
  },
  {
   "cell_type": "code",
   "execution_count": 2,
   "id": "a5c5189a-97eb-4b0f-82d3-d6c20038cb23",
   "metadata": {},
   "outputs": [],
   "source": [
    "from selenium import webdriver"
   ]
  },
  {
   "cell_type": "code",
   "execution_count": 3,
   "id": "bbfc3313-d648-4261-a81a-fa7a2a0dc843",
   "metadata": {},
   "outputs": [],
   "source": [
    "import pandas as pd\n",
    "from selenium.webdriver.common.by import By"
   ]
  },
  {
   "cell_type": "code",
   "execution_count": 34,
   "id": "a1b70f7f-0b83-4d2e-abd5-33f996b13f5f",
   "metadata": {},
   "outputs": [],
   "source": [
    "d=webdriver.Chrome()"
   ]
  },
  {
   "cell_type": "code",
   "execution_count": 39,
   "id": "704e144d-0351-42e5-9716-895288296105",
   "metadata": {},
   "outputs": [],
   "source": [
    "url='https://nreganarep.nic.in/netnrega/app_issue.aspx?page=s&lflag=eng&state_name=ANDHRA%20PRADESH&state_code=02&fin_year=2022-2023&source=national&Digest=G1REW9Uem9bZKGAleXtm6w'"
   ]
  },
  {
   "cell_type": "code",
   "execution_count": 6,
   "id": "4a4db77a-9e88-4f36-bcaf-542f15f13f53",
   "metadata": {},
   "outputs": [],
   "source": [
    "#URL1:https://nreganarep.nic.in/netnrega/app_issue.aspx?page=s&lflag=eng&state_name=ANDHRA%20PRADESH&state_code=02&fin_year=2023-2024&source=national&Digest=Fs+9iTu7pQCA/fT0ctav4w\n"
   ]
  },
  {
   "cell_type": "code",
   "execution_count": 40,
   "id": "153b0dd5-c38a-4a4c-b223-dc2aacd1c2bb",
   "metadata": {},
   "outputs": [],
   "source": [
    "d.get(url)"
   ]
  },
  {
   "cell_type": "code",
   "execution_count": 41,
   "id": "4b1dd558-7f9b-43bf-a1b1-01a9a5eb27c5",
   "metadata": {},
   "outputs": [],
   "source": [
    "c=d.find_element(By.XPATH,'//span[@id=\"ContentPlaceHolder1_Repeater1_lblst_1\"]')"
   ]
  },
  {
   "cell_type": "code",
   "execution_count": 42,
   "id": "6d493bcf-37ee-45fd-b77b-1af1f173ef03",
   "metadata": {},
   "outputs": [],
   "source": [
    "c.click()"
   ]
  },
  {
   "cell_type": "code",
   "execution_count": 43,
   "id": "4d14bc94-17e7-4a0b-b699-0fac62e35aa7",
   "metadata": {},
   "outputs": [],
   "source": [
    "nd=d.current_url\n",
    "d.get(nd)"
   ]
  },
  {
   "cell_type": "code",
   "execution_count": 44,
   "id": "e45e1066-f954-4e84-8410-1c2b4dd5b43f",
   "metadata": {},
   "outputs": [],
   "source": [
    "t=d.find_elements(By.TAG_NAME,'table')"
   ]
  },
  {
   "cell_type": "code",
   "execution_count": 45,
   "id": "e795c61f-9b8e-4843-b7a0-da89313bc66c",
   "metadata": {},
   "outputs": [
    {
     "name": "stdout",
     "output_type": "stream",
     "text": [
      "Total 239653 239413 11064 429976 32052 473092 240334 215291 9140 390435 26708 426283 215978\n",
      "1 Munchingiputtu 12681 12678 108 26596 453 27157 13467 12046 101 24959 438 25498 12561\n",
      "2 Pedabayalu 13883 13875 79 29089 84 29252 14409 12904 72 27358 73 27503 13519\n",
      "3 Hukumpeta 15390 15378 124 31198 439 31761 15950 14230 113 29355 411 29879 14952\n",
      "4 Dumbriguda 13431 13426 108 28170 134 28412 14100 12813 96 26712 117 26925 13323\n",
      "5 Araku Valley 15502 15484 134 29077 180 29391 14934 13643 114 27316 149 27579 13945\n",
      "6 Ananthagiri 12833 12822 443 25292 388 26123 12882 11955 416 24194 334 24944 12246\n",
      "7 Paderu 12360 12342 231 24129 638 24998 12908 11282 184 21791 451 22426 11500\n",
      "8 Gangaraju Madugula 13546 13530 78 29012 317 29407 14461 12574 74 26378 218 26670 13011\n",
      "9 Chintapalle 17398 17328 197 32508 306 33011 16628 14687 183 29851 245 30279 15114\n",
      "10 Gudem Kothaveedhi 12229 12218 181 27114 300 27595 13729 10928 145 24317 162 24624 12181\n",
      "11 Koyyuru 14435 14420 311 22807 3361 26479 13743 13001 285 21107 3076 24468 12697\n",
      "12 Maredumilli 4207 4202 37 7829 56 7922 4107 3467 27 6568 41 6636 3440\n",
      "13 Y Ramavaram 7055 7052 76 13323 164 13563 7091 5986 52 11564 123 11739 6155\n",
      "14 Addateegala 8585 8577 941 12462 2357 15760 8145 7988 788 11008 1867 13663 7116\n",
      "15 Rajavommangi 10199 10188 287 11684 5431 17402 9093 9035 261 10638 5017 15916 8383\n",
      "16 Gangavaram 8654 8648 1089 10406 3782 15277 8121 7743 987 9354 3512 13853 7429\n",
      "17 Rampachodavaram 8963 8961 104 15008 389 15501 8319 7341 51 11809 172 12032 6490\n",
      "18 Devipatnam 6667 6666 711 8238 2569 11518 5720 5877 523 7096 1837 9456 4716\n",
      "19 Kunavaram 6724 6721 1778 9494 2375 13647 6993 5865 1308 7955 1642 10905 5521\n",
      "20 Chintur 8351 8342 228 15985 772 16985 8966 7255 166 13552 526 14244 7554\n",
      "21 Vararamachandrapuram 7085 7084 333 8834 4388 13555 6815 6455 252 7522 3866 11640 5838\n",
      "22 Nellipaka 9475 9471 3486 11721 3169 18376 9753 8216 2942 10031 2431 15404 8287\n",
      "Total 239653 239413 11064 429976 32052 473092 240334 215291 9140 390435 26708 426283 215978\n"
     ]
    }
   ],
   "source": [
    "b=t[6]\n",
    "x=b.find_elements(By.TAG_NAME,'tr')\n",
    "for i in x[3:]:\n",
    "    print(i.text)\n"
   ]
  },
  {
   "cell_type": "code",
   "execution_count": 46,
   "id": "3744f413-186d-4b4c-9ad9-17d41f2bf002",
   "metadata": {},
   "outputs": [],
   "source": [
    "b=t[6]\n",
    "col=['S.No','Districts','Number of Jobcards applied','Number of Jobcards issued','Registered Workers SCs','Registered Workers STs',\n",
    "     'Registered Workers others','Registered Workers Total Workers','Registered Workers Women','Number of Active Job Cards',\n",
    "     'Active Workers SCs','Active Workers STs',\n",
    "     'Active Workers others','Active Workers Total Workers','Active Workers Women']\n",
    "df=pd.DataFrame(columns=col)"
   ]
  },
  {
   "cell_type": "code",
   "execution_count": 47,
   "id": "2dbef5c1-8b5c-4b6e-9303-1b1a4fef833e",
   "metadata": {},
   "outputs": [],
   "source": [
    "gh=b.find_elements(By.TAG_NAME,'tr')\n",
    "for i in gh[3:]:\n",
    "    k=i.find_elements(By.TAG_NAME,'td')\n",
    "    k=[j.text for j in k]\n",
    "    l=len(df)\n",
    "    df.loc[l]=k"
   ]
  },
  {
   "cell_type": "code",
   "execution_count": 48,
   "id": "0a36e47e-275e-4307-b620-1a6525fbbe74",
   "metadata": {},
   "outputs": [],
   "source": [
    "title=d.find_element(By.XPATH,'//span[@id=\"ContentPlaceHolder1_lbl_head\"]').text"
   ]
  },
  {
   "cell_type": "code",
   "execution_count": 49,
   "id": "8bcdbd2d-cae6-48ce-b492-6670637139c2",
   "metadata": {},
   "outputs": [
    {
     "data": {
      "text/plain": [
       "'State: ANDHRA PRADESH District : ALLURI SITHARAMA RAJU'"
      ]
     },
     "execution_count": 49,
     "metadata": {},
     "output_type": "execute_result"
    }
   ],
   "source": [
    "title"
   ]
  },
  {
   "cell_type": "code",
   "execution_count": 50,
   "id": "97038705-b592-4de6-8193-cb775708e9be",
   "metadata": {},
   "outputs": [
    {
     "data": {
      "text/html": [
       "<div>\n",
       "<style scoped>\n",
       "    .dataframe tbody tr th:only-of-type {\n",
       "        vertical-align: middle;\n",
       "    }\n",
       "\n",
       "    .dataframe tbody tr th {\n",
       "        vertical-align: top;\n",
       "    }\n",
       "\n",
       "    .dataframe thead th {\n",
       "        text-align: right;\n",
       "    }\n",
       "</style>\n",
       "<table border=\"1\" class=\"dataframe\">\n",
       "  <thead>\n",
       "    <tr style=\"text-align: right;\">\n",
       "      <th></th>\n",
       "      <th>S.No</th>\n",
       "      <th>Districts</th>\n",
       "      <th>Number of Jobcards applied</th>\n",
       "      <th>Number of Jobcards issued</th>\n",
       "      <th>Registered Workers SCs</th>\n",
       "      <th>Registered Workers STs</th>\n",
       "      <th>Registered Workers others</th>\n",
       "      <th>Registered Workers Total Workers</th>\n",
       "      <th>Registered Workers Women</th>\n",
       "      <th>Number of Active Job Cards</th>\n",
       "      <th>Active Workers SCs</th>\n",
       "      <th>Active Workers STs</th>\n",
       "      <th>Active Workers others</th>\n",
       "      <th>Active Workers Total Workers</th>\n",
       "      <th>Active Workers Women</th>\n",
       "    </tr>\n",
       "  </thead>\n",
       "  <tbody>\n",
       "    <tr>\n",
       "      <th>0</th>\n",
       "      <td></td>\n",
       "      <td>Total</td>\n",
       "      <td>239653</td>\n",
       "      <td>239413</td>\n",
       "      <td>11064</td>\n",
       "      <td>429976</td>\n",
       "      <td>32052</td>\n",
       "      <td>473092</td>\n",
       "      <td>240334</td>\n",
       "      <td>215291</td>\n",
       "      <td>9140</td>\n",
       "      <td>390435</td>\n",
       "      <td>26708</td>\n",
       "      <td>426283</td>\n",
       "      <td>215978</td>\n",
       "    </tr>\n",
       "    <tr>\n",
       "      <th>1</th>\n",
       "      <td>1</td>\n",
       "      <td>Munchingiputtu</td>\n",
       "      <td>12681</td>\n",
       "      <td>12678</td>\n",
       "      <td>108</td>\n",
       "      <td>26596</td>\n",
       "      <td>453</td>\n",
       "      <td>27157</td>\n",
       "      <td>13467</td>\n",
       "      <td>12046</td>\n",
       "      <td>101</td>\n",
       "      <td>24959</td>\n",
       "      <td>438</td>\n",
       "      <td>25498</td>\n",
       "      <td>12561</td>\n",
       "    </tr>\n",
       "    <tr>\n",
       "      <th>2</th>\n",
       "      <td>2</td>\n",
       "      <td>Pedabayalu</td>\n",
       "      <td>13883</td>\n",
       "      <td>13875</td>\n",
       "      <td>79</td>\n",
       "      <td>29089</td>\n",
       "      <td>84</td>\n",
       "      <td>29252</td>\n",
       "      <td>14409</td>\n",
       "      <td>12904</td>\n",
       "      <td>72</td>\n",
       "      <td>27358</td>\n",
       "      <td>73</td>\n",
       "      <td>27503</td>\n",
       "      <td>13519</td>\n",
       "    </tr>\n",
       "    <tr>\n",
       "      <th>3</th>\n",
       "      <td>3</td>\n",
       "      <td>Hukumpeta</td>\n",
       "      <td>15390</td>\n",
       "      <td>15378</td>\n",
       "      <td>124</td>\n",
       "      <td>31198</td>\n",
       "      <td>439</td>\n",
       "      <td>31761</td>\n",
       "      <td>15950</td>\n",
       "      <td>14230</td>\n",
       "      <td>113</td>\n",
       "      <td>29355</td>\n",
       "      <td>411</td>\n",
       "      <td>29879</td>\n",
       "      <td>14952</td>\n",
       "    </tr>\n",
       "    <tr>\n",
       "      <th>4</th>\n",
       "      <td>4</td>\n",
       "      <td>Dumbriguda</td>\n",
       "      <td>13431</td>\n",
       "      <td>13426</td>\n",
       "      <td>108</td>\n",
       "      <td>28170</td>\n",
       "      <td>134</td>\n",
       "      <td>28412</td>\n",
       "      <td>14100</td>\n",
       "      <td>12813</td>\n",
       "      <td>96</td>\n",
       "      <td>26712</td>\n",
       "      <td>117</td>\n",
       "      <td>26925</td>\n",
       "      <td>13323</td>\n",
       "    </tr>\n",
       "    <tr>\n",
       "      <th>5</th>\n",
       "      <td>5</td>\n",
       "      <td>Araku Valley</td>\n",
       "      <td>15502</td>\n",
       "      <td>15484</td>\n",
       "      <td>134</td>\n",
       "      <td>29077</td>\n",
       "      <td>180</td>\n",
       "      <td>29391</td>\n",
       "      <td>14934</td>\n",
       "      <td>13643</td>\n",
       "      <td>114</td>\n",
       "      <td>27316</td>\n",
       "      <td>149</td>\n",
       "      <td>27579</td>\n",
       "      <td>13945</td>\n",
       "    </tr>\n",
       "    <tr>\n",
       "      <th>6</th>\n",
       "      <td>6</td>\n",
       "      <td>Ananthagiri</td>\n",
       "      <td>12833</td>\n",
       "      <td>12822</td>\n",
       "      <td>443</td>\n",
       "      <td>25292</td>\n",
       "      <td>388</td>\n",
       "      <td>26123</td>\n",
       "      <td>12882</td>\n",
       "      <td>11955</td>\n",
       "      <td>416</td>\n",
       "      <td>24194</td>\n",
       "      <td>334</td>\n",
       "      <td>24944</td>\n",
       "      <td>12246</td>\n",
       "    </tr>\n",
       "    <tr>\n",
       "      <th>7</th>\n",
       "      <td>7</td>\n",
       "      <td>Paderu</td>\n",
       "      <td>12360</td>\n",
       "      <td>12342</td>\n",
       "      <td>231</td>\n",
       "      <td>24129</td>\n",
       "      <td>638</td>\n",
       "      <td>24998</td>\n",
       "      <td>12908</td>\n",
       "      <td>11282</td>\n",
       "      <td>184</td>\n",
       "      <td>21791</td>\n",
       "      <td>451</td>\n",
       "      <td>22426</td>\n",
       "      <td>11500</td>\n",
       "    </tr>\n",
       "    <tr>\n",
       "      <th>8</th>\n",
       "      <td>8</td>\n",
       "      <td>Gangaraju Madugula</td>\n",
       "      <td>13546</td>\n",
       "      <td>13530</td>\n",
       "      <td>78</td>\n",
       "      <td>29012</td>\n",
       "      <td>317</td>\n",
       "      <td>29407</td>\n",
       "      <td>14461</td>\n",
       "      <td>12574</td>\n",
       "      <td>74</td>\n",
       "      <td>26378</td>\n",
       "      <td>218</td>\n",
       "      <td>26670</td>\n",
       "      <td>13011</td>\n",
       "    </tr>\n",
       "    <tr>\n",
       "      <th>9</th>\n",
       "      <td>9</td>\n",
       "      <td>Chintapalle</td>\n",
       "      <td>17398</td>\n",
       "      <td>17328</td>\n",
       "      <td>197</td>\n",
       "      <td>32508</td>\n",
       "      <td>306</td>\n",
       "      <td>33011</td>\n",
       "      <td>16628</td>\n",
       "      <td>14687</td>\n",
       "      <td>183</td>\n",
       "      <td>29851</td>\n",
       "      <td>245</td>\n",
       "      <td>30279</td>\n",
       "      <td>15114</td>\n",
       "    </tr>\n",
       "    <tr>\n",
       "      <th>10</th>\n",
       "      <td>10</td>\n",
       "      <td>Gudem Kothaveedhi</td>\n",
       "      <td>12229</td>\n",
       "      <td>12218</td>\n",
       "      <td>181</td>\n",
       "      <td>27114</td>\n",
       "      <td>300</td>\n",
       "      <td>27595</td>\n",
       "      <td>13729</td>\n",
       "      <td>10928</td>\n",
       "      <td>145</td>\n",
       "      <td>24317</td>\n",
       "      <td>162</td>\n",
       "      <td>24624</td>\n",
       "      <td>12181</td>\n",
       "    </tr>\n",
       "    <tr>\n",
       "      <th>11</th>\n",
       "      <td>11</td>\n",
       "      <td>Koyyuru</td>\n",
       "      <td>14435</td>\n",
       "      <td>14420</td>\n",
       "      <td>311</td>\n",
       "      <td>22807</td>\n",
       "      <td>3361</td>\n",
       "      <td>26479</td>\n",
       "      <td>13743</td>\n",
       "      <td>13001</td>\n",
       "      <td>285</td>\n",
       "      <td>21107</td>\n",
       "      <td>3076</td>\n",
       "      <td>24468</td>\n",
       "      <td>12697</td>\n",
       "    </tr>\n",
       "    <tr>\n",
       "      <th>12</th>\n",
       "      <td>12</td>\n",
       "      <td>Maredumilli</td>\n",
       "      <td>4207</td>\n",
       "      <td>4202</td>\n",
       "      <td>37</td>\n",
       "      <td>7829</td>\n",
       "      <td>56</td>\n",
       "      <td>7922</td>\n",
       "      <td>4107</td>\n",
       "      <td>3467</td>\n",
       "      <td>27</td>\n",
       "      <td>6568</td>\n",
       "      <td>41</td>\n",
       "      <td>6636</td>\n",
       "      <td>3440</td>\n",
       "    </tr>\n",
       "    <tr>\n",
       "      <th>13</th>\n",
       "      <td>13</td>\n",
       "      <td>Y Ramavaram</td>\n",
       "      <td>7055</td>\n",
       "      <td>7052</td>\n",
       "      <td>76</td>\n",
       "      <td>13323</td>\n",
       "      <td>164</td>\n",
       "      <td>13563</td>\n",
       "      <td>7091</td>\n",
       "      <td>5986</td>\n",
       "      <td>52</td>\n",
       "      <td>11564</td>\n",
       "      <td>123</td>\n",
       "      <td>11739</td>\n",
       "      <td>6155</td>\n",
       "    </tr>\n",
       "    <tr>\n",
       "      <th>14</th>\n",
       "      <td>14</td>\n",
       "      <td>Addateegala</td>\n",
       "      <td>8585</td>\n",
       "      <td>8577</td>\n",
       "      <td>941</td>\n",
       "      <td>12462</td>\n",
       "      <td>2357</td>\n",
       "      <td>15760</td>\n",
       "      <td>8145</td>\n",
       "      <td>7988</td>\n",
       "      <td>788</td>\n",
       "      <td>11008</td>\n",
       "      <td>1867</td>\n",
       "      <td>13663</td>\n",
       "      <td>7116</td>\n",
       "    </tr>\n",
       "    <tr>\n",
       "      <th>15</th>\n",
       "      <td>15</td>\n",
       "      <td>Rajavommangi</td>\n",
       "      <td>10199</td>\n",
       "      <td>10188</td>\n",
       "      <td>287</td>\n",
       "      <td>11684</td>\n",
       "      <td>5431</td>\n",
       "      <td>17402</td>\n",
       "      <td>9093</td>\n",
       "      <td>9035</td>\n",
       "      <td>261</td>\n",
       "      <td>10638</td>\n",
       "      <td>5017</td>\n",
       "      <td>15916</td>\n",
       "      <td>8383</td>\n",
       "    </tr>\n",
       "    <tr>\n",
       "      <th>16</th>\n",
       "      <td>16</td>\n",
       "      <td>Gangavaram</td>\n",
       "      <td>8654</td>\n",
       "      <td>8648</td>\n",
       "      <td>1089</td>\n",
       "      <td>10406</td>\n",
       "      <td>3782</td>\n",
       "      <td>15277</td>\n",
       "      <td>8121</td>\n",
       "      <td>7743</td>\n",
       "      <td>987</td>\n",
       "      <td>9354</td>\n",
       "      <td>3512</td>\n",
       "      <td>13853</td>\n",
       "      <td>7429</td>\n",
       "    </tr>\n",
       "    <tr>\n",
       "      <th>17</th>\n",
       "      <td>17</td>\n",
       "      <td>Rampachodavaram</td>\n",
       "      <td>8963</td>\n",
       "      <td>8961</td>\n",
       "      <td>104</td>\n",
       "      <td>15008</td>\n",
       "      <td>389</td>\n",
       "      <td>15501</td>\n",
       "      <td>8319</td>\n",
       "      <td>7341</td>\n",
       "      <td>51</td>\n",
       "      <td>11809</td>\n",
       "      <td>172</td>\n",
       "      <td>12032</td>\n",
       "      <td>6490</td>\n",
       "    </tr>\n",
       "    <tr>\n",
       "      <th>18</th>\n",
       "      <td>18</td>\n",
       "      <td>Devipatnam</td>\n",
       "      <td>6667</td>\n",
       "      <td>6666</td>\n",
       "      <td>711</td>\n",
       "      <td>8238</td>\n",
       "      <td>2569</td>\n",
       "      <td>11518</td>\n",
       "      <td>5720</td>\n",
       "      <td>5877</td>\n",
       "      <td>523</td>\n",
       "      <td>7096</td>\n",
       "      <td>1837</td>\n",
       "      <td>9456</td>\n",
       "      <td>4716</td>\n",
       "    </tr>\n",
       "    <tr>\n",
       "      <th>19</th>\n",
       "      <td>19</td>\n",
       "      <td>Kunavaram</td>\n",
       "      <td>6724</td>\n",
       "      <td>6721</td>\n",
       "      <td>1778</td>\n",
       "      <td>9494</td>\n",
       "      <td>2375</td>\n",
       "      <td>13647</td>\n",
       "      <td>6993</td>\n",
       "      <td>5865</td>\n",
       "      <td>1308</td>\n",
       "      <td>7955</td>\n",
       "      <td>1642</td>\n",
       "      <td>10905</td>\n",
       "      <td>5521</td>\n",
       "    </tr>\n",
       "    <tr>\n",
       "      <th>20</th>\n",
       "      <td>20</td>\n",
       "      <td>Chintur</td>\n",
       "      <td>8351</td>\n",
       "      <td>8342</td>\n",
       "      <td>228</td>\n",
       "      <td>15985</td>\n",
       "      <td>772</td>\n",
       "      <td>16985</td>\n",
       "      <td>8966</td>\n",
       "      <td>7255</td>\n",
       "      <td>166</td>\n",
       "      <td>13552</td>\n",
       "      <td>526</td>\n",
       "      <td>14244</td>\n",
       "      <td>7554</td>\n",
       "    </tr>\n",
       "    <tr>\n",
       "      <th>21</th>\n",
       "      <td>21</td>\n",
       "      <td>Vararamachandrapuram</td>\n",
       "      <td>7085</td>\n",
       "      <td>7084</td>\n",
       "      <td>333</td>\n",
       "      <td>8834</td>\n",
       "      <td>4388</td>\n",
       "      <td>13555</td>\n",
       "      <td>6815</td>\n",
       "      <td>6455</td>\n",
       "      <td>252</td>\n",
       "      <td>7522</td>\n",
       "      <td>3866</td>\n",
       "      <td>11640</td>\n",
       "      <td>5838</td>\n",
       "    </tr>\n",
       "    <tr>\n",
       "      <th>22</th>\n",
       "      <td>22</td>\n",
       "      <td>Nellipaka</td>\n",
       "      <td>9475</td>\n",
       "      <td>9471</td>\n",
       "      <td>3486</td>\n",
       "      <td>11721</td>\n",
       "      <td>3169</td>\n",
       "      <td>18376</td>\n",
       "      <td>9753</td>\n",
       "      <td>8216</td>\n",
       "      <td>2942</td>\n",
       "      <td>10031</td>\n",
       "      <td>2431</td>\n",
       "      <td>15404</td>\n",
       "      <td>8287</td>\n",
       "    </tr>\n",
       "    <tr>\n",
       "      <th>23</th>\n",
       "      <td></td>\n",
       "      <td>Total</td>\n",
       "      <td>239653</td>\n",
       "      <td>239413</td>\n",
       "      <td>11064</td>\n",
       "      <td>429976</td>\n",
       "      <td>32052</td>\n",
       "      <td>473092</td>\n",
       "      <td>240334</td>\n",
       "      <td>215291</td>\n",
       "      <td>9140</td>\n",
       "      <td>390435</td>\n",
       "      <td>26708</td>\n",
       "      <td>426283</td>\n",
       "      <td>215978</td>\n",
       "    </tr>\n",
       "  </tbody>\n",
       "</table>\n",
       "</div>"
      ],
      "text/plain": [
       "   S.No             Districts Number of Jobcards applied  \\\n",
       "0                       Total                     239653   \n",
       "1     1        Munchingiputtu                      12681   \n",
       "2     2            Pedabayalu                      13883   \n",
       "3     3             Hukumpeta                      15390   \n",
       "4     4            Dumbriguda                      13431   \n",
       "5     5          Araku Valley                      15502   \n",
       "6     6           Ananthagiri                      12833   \n",
       "7     7                Paderu                      12360   \n",
       "8     8    Gangaraju Madugula                      13546   \n",
       "9     9           Chintapalle                      17398   \n",
       "10   10     Gudem Kothaveedhi                      12229   \n",
       "11   11               Koyyuru                      14435   \n",
       "12   12           Maredumilli                       4207   \n",
       "13   13           Y Ramavaram                       7055   \n",
       "14   14           Addateegala                       8585   \n",
       "15   15          Rajavommangi                      10199   \n",
       "16   16            Gangavaram                       8654   \n",
       "17   17       Rampachodavaram                       8963   \n",
       "18   18            Devipatnam                       6667   \n",
       "19   19             Kunavaram                       6724   \n",
       "20   20               Chintur                       8351   \n",
       "21   21  Vararamachandrapuram                       7085   \n",
       "22   22             Nellipaka                       9475   \n",
       "23                      Total                     239653   \n",
       "\n",
       "   Number of Jobcards issued Registered Workers SCs Registered Workers STs  \\\n",
       "0                     239413                  11064                 429976   \n",
       "1                      12678                    108                  26596   \n",
       "2                      13875                     79                  29089   \n",
       "3                      15378                    124                  31198   \n",
       "4                      13426                    108                  28170   \n",
       "5                      15484                    134                  29077   \n",
       "6                      12822                    443                  25292   \n",
       "7                      12342                    231                  24129   \n",
       "8                      13530                     78                  29012   \n",
       "9                      17328                    197                  32508   \n",
       "10                     12218                    181                  27114   \n",
       "11                     14420                    311                  22807   \n",
       "12                      4202                     37                   7829   \n",
       "13                      7052                     76                  13323   \n",
       "14                      8577                    941                  12462   \n",
       "15                     10188                    287                  11684   \n",
       "16                      8648                   1089                  10406   \n",
       "17                      8961                    104                  15008   \n",
       "18                      6666                    711                   8238   \n",
       "19                      6721                   1778                   9494   \n",
       "20                      8342                    228                  15985   \n",
       "21                      7084                    333                   8834   \n",
       "22                      9471                   3486                  11721   \n",
       "23                    239413                  11064                 429976   \n",
       "\n",
       "   Registered Workers others Registered Workers Total Workers  \\\n",
       "0                      32052                           473092   \n",
       "1                        453                            27157   \n",
       "2                         84                            29252   \n",
       "3                        439                            31761   \n",
       "4                        134                            28412   \n",
       "5                        180                            29391   \n",
       "6                        388                            26123   \n",
       "7                        638                            24998   \n",
       "8                        317                            29407   \n",
       "9                        306                            33011   \n",
       "10                       300                            27595   \n",
       "11                      3361                            26479   \n",
       "12                        56                             7922   \n",
       "13                       164                            13563   \n",
       "14                      2357                            15760   \n",
       "15                      5431                            17402   \n",
       "16                      3782                            15277   \n",
       "17                       389                            15501   \n",
       "18                      2569                            11518   \n",
       "19                      2375                            13647   \n",
       "20                       772                            16985   \n",
       "21                      4388                            13555   \n",
       "22                      3169                            18376   \n",
       "23                     32052                           473092   \n",
       "\n",
       "   Registered Workers Women Number of Active Job Cards Active Workers SCs  \\\n",
       "0                    240334                     215291               9140   \n",
       "1                     13467                      12046                101   \n",
       "2                     14409                      12904                 72   \n",
       "3                     15950                      14230                113   \n",
       "4                     14100                      12813                 96   \n",
       "5                     14934                      13643                114   \n",
       "6                     12882                      11955                416   \n",
       "7                     12908                      11282                184   \n",
       "8                     14461                      12574                 74   \n",
       "9                     16628                      14687                183   \n",
       "10                    13729                      10928                145   \n",
       "11                    13743                      13001                285   \n",
       "12                     4107                       3467                 27   \n",
       "13                     7091                       5986                 52   \n",
       "14                     8145                       7988                788   \n",
       "15                     9093                       9035                261   \n",
       "16                     8121                       7743                987   \n",
       "17                     8319                       7341                 51   \n",
       "18                     5720                       5877                523   \n",
       "19                     6993                       5865               1308   \n",
       "20                     8966                       7255                166   \n",
       "21                     6815                       6455                252   \n",
       "22                     9753                       8216               2942   \n",
       "23                   240334                     215291               9140   \n",
       "\n",
       "   Active Workers STs Active Workers others Active Workers Total Workers  \\\n",
       "0              390435                 26708                       426283   \n",
       "1               24959                   438                        25498   \n",
       "2               27358                    73                        27503   \n",
       "3               29355                   411                        29879   \n",
       "4               26712                   117                        26925   \n",
       "5               27316                   149                        27579   \n",
       "6               24194                   334                        24944   \n",
       "7               21791                   451                        22426   \n",
       "8               26378                   218                        26670   \n",
       "9               29851                   245                        30279   \n",
       "10              24317                   162                        24624   \n",
       "11              21107                  3076                        24468   \n",
       "12               6568                    41                         6636   \n",
       "13              11564                   123                        11739   \n",
       "14              11008                  1867                        13663   \n",
       "15              10638                  5017                        15916   \n",
       "16               9354                  3512                        13853   \n",
       "17              11809                   172                        12032   \n",
       "18               7096                  1837                         9456   \n",
       "19               7955                  1642                        10905   \n",
       "20              13552                   526                        14244   \n",
       "21               7522                  3866                        11640   \n",
       "22              10031                  2431                        15404   \n",
       "23             390435                 26708                       426283   \n",
       "\n",
       "   Active Workers Women  \n",
       "0                215978  \n",
       "1                 12561  \n",
       "2                 13519  \n",
       "3                 14952  \n",
       "4                 13323  \n",
       "5                 13945  \n",
       "6                 12246  \n",
       "7                 11500  \n",
       "8                 13011  \n",
       "9                 15114  \n",
       "10                12181  \n",
       "11                12697  \n",
       "12                 3440  \n",
       "13                 6155  \n",
       "14                 7116  \n",
       "15                 8383  \n",
       "16                 7429  \n",
       "17                 6490  \n",
       "18                 4716  \n",
       "19                 5521  \n",
       "20                 7554  \n",
       "21                 5838  \n",
       "22                 8287  \n",
       "23               215978  "
      ]
     },
     "execution_count": 50,
     "metadata": {},
     "output_type": "execute_result"
    }
   ],
   "source": [
    "df"
   ]
  },
  {
   "cell_type": "code",
   "execution_count": 51,
   "id": "f8e1ec75-44fc-415e-896a-247c85b1ec57",
   "metadata": {},
   "outputs": [],
   "source": [
    "d.get('https://nreganarep.nic.in/netnrega/writereaddata/state_out/jobcardreg_0203008001_eng.html')"
   ]
  },
  {
   "cell_type": "code",
   "execution_count": 59,
   "id": "436f2c68-5ee8-46e7-90bf-a11dd6b46682",
   "metadata": {},
   "outputs": [],
   "source": [
    "f=d.find_elements(By.TAG_NAME,'tr')"
   ]
  },
  {
   "cell_type": "code",
   "execution_count": 80,
   "id": "85f5b4bf-cb98-40c7-94e2-8d7ee3e0e4c0",
   "metadata": {},
   "outputs": [],
   "source": [
    "df=pd.DataFrame(columns=['sno','Job_card_no','name'])"
   ]
  },
  {
   "cell_type": "code",
   "execution_count": 82,
   "id": "7393a7cd-f252-46b1-b9a0-d9950f52b07a",
   "metadata": {},
   "outputs": [],
   "source": [
    "for i in f[4:-4]:\n",
    "    k=i.find_elements(By.TAG_NAME,'td')\n",
    "    k=[ j.text for j in k]\n",
    "    l=len(df)\n",
    "    df.loc[l]=k"
   ]
  },
  {
   "cell_type": "code",
   "execution_count": 66,
   "id": "a577c5be-b94a-41dc-9498-9183b67a8556",
   "metadata": {},
   "outputs": [],
   "source": [
    "z=op.find_elements(By.TAG_NAME,'td')"
   ]
  },
  {
   "cell_type": "code",
   "execution_count": 67,
   "id": "a049f9ee-8e40-469d-aa8f-887ae8b455f5",
   "metadata": {},
   "outputs": [
    {
     "name": "stdout",
     "output_type": "stream",
     "text": [
      "1\n",
      "AP-03-008-001-001/010005\n",
      "Peddademudu\n"
     ]
    }
   ],
   "source": [
    "for i in z:\n",
    "    print(i.text)"
   ]
  },
  {
   "cell_type": "code",
   "execution_count": 70,
   "id": "85514422-09ec-4955-b254-d40d7b30bad2",
   "metadata": {},
   "outputs": [
    {
     "data": {
      "text/plain": [
       "607"
      ]
     },
     "execution_count": 70,
     "metadata": {},
     "output_type": "execute_result"
    }
   ],
   "source": [
    "len(f)"
   ]
  },
  {
   "cell_type": "code",
   "execution_count": null,
   "id": "d5ef3c52-6707-49b4-baf7-0ae01db7f01d",
   "metadata": {},
   "outputs": [],
   "source": [
    "for i in f[4:-4]:\n",
    "    print(i.text)"
   ]
  },
  {
   "cell_type": "code",
   "execution_count": 78,
   "id": "1680f6c1-833b-4ee6-9cc3-d0bdf28e89a8",
   "metadata": {},
   "outputs": [
    {
     "data": {
      "text/html": [
       "<div>\n",
       "<style scoped>\n",
       "    .dataframe tbody tr th:only-of-type {\n",
       "        vertical-align: middle;\n",
       "    }\n",
       "\n",
       "    .dataframe tbody tr th {\n",
       "        vertical-align: top;\n",
       "    }\n",
       "\n",
       "    .dataframe thead th {\n",
       "        text-align: right;\n",
       "    }\n",
       "</style>\n",
       "<table border=\"1\" class=\"dataframe\">\n",
       "  <thead>\n",
       "    <tr style=\"text-align: right;\">\n",
       "      <th></th>\n",
       "      <th>sno</th>\n",
       "      <th>Job_card_no</th>\n",
       "      <th>name</th>\n",
       "    </tr>\n",
       "  </thead>\n",
       "  <tbody>\n",
       "    <tr>\n",
       "      <th>0</th>\n",
       "      <td>1</td>\n",
       "      <td>AP-03-008-001-001/010005</td>\n",
       "      <td>Peddademudu</td>\n",
       "    </tr>\n",
       "    <tr>\n",
       "      <th>1</th>\n",
       "      <td>1</td>\n",
       "      <td>AP-03-008-001-001/010005</td>\n",
       "      <td>Peddademudu</td>\n",
       "    </tr>\n",
       "    <tr>\n",
       "      <th>2</th>\n",
       "      <td>2</td>\n",
       "      <td>AP-03-008-001-001/010006</td>\n",
       "      <td>Jagannadham</td>\n",
       "    </tr>\n",
       "    <tr>\n",
       "      <th>3</th>\n",
       "      <td>3</td>\n",
       "      <td>AP-03-008-001-001/010007</td>\n",
       "      <td>Demudamma</td>\n",
       "    </tr>\n",
       "    <tr>\n",
       "      <th>4</th>\n",
       "      <td>4</td>\n",
       "      <td>AP-03-008-001-001/010011</td>\n",
       "      <td>Chittibabu</td>\n",
       "    </tr>\n",
       "    <tr>\n",
       "      <th>...</th>\n",
       "      <td>...</td>\n",
       "      <td>...</td>\n",
       "      <td>...</td>\n",
       "    </tr>\n",
       "    <tr>\n",
       "      <th>595</th>\n",
       "      <td>595</td>\n",
       "      <td>AP-03-008-001-001/70114</td>\n",
       "      <td>Kandumukku Ramanna Dora</td>\n",
       "    </tr>\n",
       "    <tr>\n",
       "      <th>596</th>\n",
       "      <td>596</td>\n",
       "      <td>AP-03-008-001-001/70115</td>\n",
       "      <td>Kooda Pedademudamma</td>\n",
       "    </tr>\n",
       "    <tr>\n",
       "      <th>597</th>\n",
       "      <td>597</td>\n",
       "      <td>AP-03-008-001-001/70116</td>\n",
       "      <td>Lankela Somaraju</td>\n",
       "    </tr>\n",
       "    <tr>\n",
       "      <th>598</th>\n",
       "      <td>598</td>\n",
       "      <td>AP-03-008-001-001/70117</td>\n",
       "      <td>VINIPIRI NAGARAJU</td>\n",
       "    </tr>\n",
       "    <tr>\n",
       "      <th>599</th>\n",
       "      <td>599</td>\n",
       "      <td>AP-03-008-001-001/70118</td>\n",
       "      <td>Pagi Kusumapraya</td>\n",
       "    </tr>\n",
       "  </tbody>\n",
       "</table>\n",
       "<p>600 rows × 3 columns</p>\n",
       "</div>"
      ],
      "text/plain": [
       "     sno               Job_card_no                     name\n",
       "0      1  AP-03-008-001-001/010005              Peddademudu\n",
       "1      1  AP-03-008-001-001/010005              Peddademudu\n",
       "2      2  AP-03-008-001-001/010006              Jagannadham\n",
       "3      3  AP-03-008-001-001/010007                Demudamma\n",
       "4      4  AP-03-008-001-001/010011               Chittibabu\n",
       "..   ...                       ...                      ...\n",
       "595  595   AP-03-008-001-001/70114  Kandumukku Ramanna Dora\n",
       "596  596   AP-03-008-001-001/70115      Kooda Pedademudamma\n",
       "597  597   AP-03-008-001-001/70116         Lankela Somaraju\n",
       "598  598   AP-03-008-001-001/70117        VINIPIRI NAGARAJU\n",
       "599  599   AP-03-008-001-001/70118         Pagi Kusumapraya\n",
       "\n",
       "[600 rows x 3 columns]"
      ]
     },
     "execution_count": 78,
     "metadata": {},
     "output_type": "execute_result"
    }
   ],
   "source": [
    "df"
   ]
  },
  {
   "cell_type": "code",
   "execution_count": 88,
   "id": "1b53f597-09ae-474c-9df2-0f87811ad2f9",
   "metadata": {},
   "outputs": [],
   "source": [
    "l=[]\n",
    "for i in f[4:-4]:\n",
    "    z=i.find_element(By.TAG_NAME, \"a\")\n",
    "    l.append(z.get_attribute('href'))\n",
    "    "
   ]
  },
  {
   "cell_type": "code",
   "execution_count": 93,
   "id": "4bdee0fa-185d-4954-9042-41c8151e2185",
   "metadata": {},
   "outputs": [],
   "source": [
    "\n",
    "df['link']=l[:len(df)]"
   ]
  },
  {
   "cell_type": "code",
   "execution_count": 91,
   "id": "c6219c76-e8c3-4662-939f-bec0e6953369",
   "metadata": {},
   "outputs": [
    {
     "data": {
      "text/plain": [
       "599"
      ]
     },
     "execution_count": 91,
     "metadata": {},
     "output_type": "execute_result"
    }
   ],
   "source": [
    "len(df)"
   ]
  },
  {
   "cell_type": "code",
   "execution_count": 95,
   "id": "64298d50-d069-433e-8c0f-a95aea85b454",
   "metadata": {},
   "outputs": [],
   "source": [
    "df.to_csv('jmklusm.csv',index=False)"
   ]
  },
  {
   "cell_type": "code",
   "execution_count": 96,
   "id": "8375b05f-a370-43a2-b872-ef20330daa74",
   "metadata": {},
   "outputs": [],
   "source": [
    "def shorten_url(url):\n",
    "    response = requests.get(f\"http://tinyurl.com/api-create.php?url={url}\")\n",
    "    return response.text"
   ]
  },
  {
   "cell_type": "code",
   "execution_count": 99,
   "id": "66a7456f-0f3c-4e07-823b-2f89f7f1a286",
   "metadata": {},
   "outputs": [],
   "source": [
    "import requests"
   ]
  },
  {
   "cell_type": "code",
   "execution_count": 101,
   "id": "adb0f5e7-d46c-4d8f-b653-9d2ec9c641ff",
   "metadata": {},
   "outputs": [
    {
     "data": {
      "text/plain": [
       "'https://tinyurl.com/26smsvur'"
      ]
     },
     "execution_count": 101,
     "metadata": {},
     "output_type": "execute_result"
    }
   ],
   "source": [
    "shorten_url('https://nreganarep.nic.in/netnrega/state_html/jcr.aspx?reg_no=AP-03-008-001-001/010005&village_code=0203008001001&fin_year=2022-2023&Digest=TlENxoq10khQ2Yz5NVJd3g')"
   ]
  },
  {
   "cell_type": "code",
   "execution_count": 104,
   "id": "dc8af6da-c12f-4e1c-9a3b-cb6af69918f4",
   "metadata": {},
   "outputs": [],
   "source": [
    "df['link']=df.link.apply(lambda x:shorten_url(x))"
   ]
  },
  {
   "cell_type": "code",
   "execution_count": 103,
   "id": "eea5da82-94e6-4bd1-8118-85adf28c259a",
   "metadata": {},
   "outputs": [
    {
     "data": {
      "text/plain": [
       "'https://nreganarep.nic.in/netnrega/state_html/jcr.aspx?reg_no=AP-03-008-001-001/010007&village_code=0203008001001&fin_year=2022-2023&Digest=M1lDYPT8nnRAIxF4ytLWFA'"
      ]
     },
     "execution_count": 103,
     "metadata": {},
     "output_type": "execute_result"
    }
   ],
   "source": [
    "df['link'][2]"
   ]
  },
  {
   "cell_type": "code",
   "execution_count": 106,
   "id": "0c1933f1-269c-4599-beaa-aca439919af5",
   "metadata": {},
   "outputs": [],
   "source": [
    "df['links']=df['link'].apply(lambda x: f'<b><a href=\"{x}\" target=\"_blank\">{x}</a></b>')\n"
   ]
  },
  {
   "cell_type": "code",
   "execution_count": null,
   "id": "137775be-e7ff-4b80-a8e5-376ebe3491fd",
   "metadata": {},
   "outputs": [],
   "source": [
    "from IPython.display import HTML\n",
    "HTML(df.to_html(escape=False))"
   ]
  },
  {
   "cell_type": "code",
   "execution_count": 109,
   "id": "5c114531-d84d-4638-8e35-03fd140932ad",
   "metadata": {},
   "outputs": [],
   "source": [
    "df.to_csv('jmk1.csv')"
   ]
  },
  {
   "cell_type": "code",
   "execution_count": 110,
   "id": "dea6c049-1bb2-4f96-9439-3f7c15f25a86",
   "metadata": {},
   "outputs": [],
   "source": [
    "#FOR LOOP"
   ]
  },
  {
   "cell_type": "code",
   "execution_count": 111,
   "id": "dbd7d52d-6b80-4c20-93c7-6c2cfdb4ae38",
   "metadata": {},
   "outputs": [],
   "source": [
    "url='https://nreganarep.nic.in/netnrega/app_issue.aspx?page=s&lflag=eng&state_name=ANDHRA%20PRADESH&state_code=02&fin_year=2023-2024&source=national&Digest=Fs+9iTu7pQCA/fT0ctav4w'"
   ]
  },
  {
   "cell_type": "code",
   "execution_count": 112,
   "id": "bb3b6c6e-9695-42ff-bbb5-96c93e27a8d3",
   "metadata": {},
   "outputs": [],
   "source": [
    "d.get(url)"
   ]
  },
  {
   "cell_type": "code",
   "execution_count": 124,
   "id": "9a44ba00-55d1-47f7-83d9-48a5db3e02c6",
   "metadata": {},
   "outputs": [],
   "source": [
    "t=d.find_elements(By.TAG_NAME,'table')  \n",
    "b=t[6]"
   ]
  },
  {
   "cell_type": "code",
   "execution_count": 130,
   "id": "681e16c8-2294-49cf-b926-6e2f16492a00",
   "metadata": {},
   "outputs": [],
   "source": [
    "z=b.find_elements(By.TAG_NAME,'tr')  \n"
   ]
  },
  {
   "cell_type": "code",
   "execution_count": 132,
   "id": "6997f65a-2391-4105-a97b-be195b54edf0",
   "metadata": {},
   "outputs": [
    {
     "name": "stdout",
     "output_type": "stream",
     "text": [
      "ALLURI SITHARAMA RAJU\n",
      "ANAKAPALLI\n",
      "ANANTAPUR\n",
      "ANNAMAYYA\n",
      "BAPATLA\n",
      "CHITTOOR\n",
      "EAST GODAVARI\n",
      "ELURU\n",
      "GUNTUR\n",
      "KAKINADA\n",
      "KONASEEMA\n",
      "KRISHNA\n",
      "KURNOOL\n",
      "NANDYAL\n",
      "NELLORE\n",
      "NTR\n",
      "PALNADU\n",
      "PARVATHIPURAM MANYAM\n",
      "PRAKASAM\n",
      "SRI SATHYA SAI\n",
      "SRIKAKULAM\n",
      "TIRUPATI\n",
      "VISAKHAPATANAM\n",
      "VIZIANAGARAM\n",
      "WEST GODAVARI\n",
      "Y.S.R\n",
      "Total\n"
     ]
    }
   ],
   "source": [
    "for i in z[4:]:\n",
    "    cv=i.find_elements(By.TAG_NAME,'td')[1]\n",
    "    "
   ]
  },
  {
   "cell_type": "code",
   "execution_count": 133,
   "id": "fa22bf2f-e2a8-4335-a100-6f750394a983",
   "metadata": {},
   "outputs": [
    {
     "name": "stdout",
     "output_type": "stream",
     "text": [
      "Jai Maa KALI_/\\_\n"
     ]
    },
    {
     "name": "stderr",
     "output_type": "stream",
     "text": [
      "<>:1: SyntaxWarning: invalid escape sequence '\\_'\n",
      "<>:1: SyntaxWarning: invalid escape sequence '\\_'\n",
      "C:\\Users\\barad\\AppData\\Local\\Temp\\ipykernel_10104\\913251040.py:1: SyntaxWarning: invalid escape sequence '\\_'\n",
      "  print('Jai Maa KALI_/\\_')\n"
     ]
    }
   ],
   "source": [
    "print('Jai Maa KALI_/\\_')"
   ]
  },
  {
   "cell_type": "code",
   "execution_count": null,
   "id": "ae57efca-2fa6-4301-9ce5-76552949d20f",
   "metadata": {},
   "outputs": [],
   "source": []
  }
 ],
 "metadata": {
  "kernelspec": {
   "display_name": "Python 3 (ipykernel)",
   "language": "python",
   "name": "python3"
  },
  "language_info": {
   "codemirror_mode": {
    "name": "ipython",
    "version": 3
   },
   "file_extension": ".py",
   "mimetype": "text/x-python",
   "name": "python",
   "nbconvert_exporter": "python",
   "pygments_lexer": "ipython3",
   "version": "3.12.7"
  }
 },
 "nbformat": 4,
 "nbformat_minor": 5
}
