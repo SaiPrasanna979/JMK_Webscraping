{
 "cells": [
  {
   "cell_type": "code",
   "execution_count": 1,
   "id": "79de973f-ca97-4fa1-ba7c-227693338528",
   "metadata": {},
   "outputs": [
    {
     "name": "stdout",
     "output_type": "stream",
     "text": [
      "Jai Maa Kali_/\\_\n"
     ]
    },
    {
     "name": "stderr",
     "output_type": "stream",
     "text": [
      "<>:1: SyntaxWarning: invalid escape sequence '\\_'\n",
      "<>:1: SyntaxWarning: invalid escape sequence '\\_'\n",
      "C:\\Users\\barad\\AppData\\Local\\Temp\\ipykernel_4868\\2338759233.py:1: SyntaxWarning: invalid escape sequence '\\_'\n",
      "  print('Jai Maa Kali_/\\_')\n"
     ]
    }
   ],
   "source": [
    "print('Jai Maa Kali_/\\_')"
   ]
  },
  {
   "cell_type": "code",
   "execution_count": 2,
   "id": "bce1c6c6-1b7f-4750-9b6d-46bba756b8c8",
   "metadata": {},
   "outputs": [
    {
     "name": "stdout",
     "output_type": "stream",
     "text": [
      "Original shape of X: (20640, 8)\n",
      "Transformed shape of X: (20640, 49)\n"
     ]
    }
   ],
   "source": [
    "from sklearn.datasets import fetch_california_housing\n",
    "from sklearn.decomposition import PCA\n",
    "from sklearn.preprocessing import StandardScaler, PolynomialFeatures\n",
    "from sklearn.pipeline import Pipeline, FeatureUnion\n",
    "\n",
    "# Load California housing dataset\n",
    "data = fetch_california_housing()\n",
    "X = data.data  # Features\n",
    "y = data.target  # Target variable (not used in the pipeline below)\n",
    "\n",
    "# Step 1: Create a PolynomialFeatures transformation (degree=2)\n",
    "polynomial_transform = PolynomialFeatures(degree=2, include_bias=False)\n",
    "\n",
    "# Step 2: Create a PCA transformation to reduce dimensionality to 5 components\n",
    "pca_transform = PCA(n_components=5)\n",
    "\n",
    "# Step 3: Combine Polynomial and PCA transformations\n",
    "combined_features = FeatureUnion([\n",
    "    ('poly', polynomial_transform),\n",
    "    ('pca', pca_transform)\n",
    "])\n",
    "\n",
    "# Step 4: Create a pipeline with FeatureUnion and StandardScaler\n",
    "pipeline = Pipeline([\n",
    "    ('features', combined_features),\n",
    "    ('scaler', StandardScaler())  # Scale the combined features\n",
    "])\n",
    "\n",
    "# Step 5: Apply the pipeline to the dataset\n",
    "X_transformed = pipeline.fit_transform(X)\n",
    "\n",
    "# Print the shape of the transformed dataset\n",
    "print(\"Original shape of X:\", X.shape)  # Original shape (20640, 8)\n",
    "print(\"Transformed shape of X:\", X_transformed.shape)  # Final shape\n"
   ]
  },
  {
   "cell_type": "code",
   "execution_count": 3,
   "id": "6f2aeaf0-498f-4fdf-9dff-c95506e0173c",
   "metadata": {},
   "outputs": [
    {
     "data": {
      "text/plain": [
       "array([[   8.3252    ,   41.        ,    6.98412698, ...,    2.55555556,\n",
       "          37.88      , -122.23      ],\n",
       "       [   8.3014    ,   21.        ,    6.23813708, ...,    2.10984183,\n",
       "          37.86      , -122.22      ],\n",
       "       [   7.2574    ,   52.        ,    8.28813559, ...,    2.80225989,\n",
       "          37.85      , -122.24      ],\n",
       "       ...,\n",
       "       [   1.7       ,   17.        ,    5.20554273, ...,    2.3256351 ,\n",
       "          39.43      , -121.22      ],\n",
       "       [   1.8672    ,   18.        ,    5.32951289, ...,    2.12320917,\n",
       "          39.43      , -121.32      ],\n",
       "       [   2.3886    ,   16.        ,    5.25471698, ...,    2.61698113,\n",
       "          39.37      , -121.24      ]])"
      ]
     },
     "execution_count": 3,
     "metadata": {},
     "output_type": "execute_result"
    }
   ],
   "source": [
    "X"
   ]
  },
  {
   "cell_type": "code",
   "execution_count": 4,
   "id": "27a648e4-5647-40e0-b5fd-53f954b29e51",
   "metadata": {},
   "outputs": [
    {
     "data": {
      "text/plain": [
       "array([[ 2.34476576,  0.98214266,  0.62855945, ..., -0.07489601,\n",
       "         1.23798827,  1.06700054],\n",
       "       [ 2.33223796, -0.60701891,  0.32704136, ..., -0.09923649,\n",
       "         1.37263985,  0.6423578 ],\n",
       "       [ 1.7826994 ,  1.85618152,  1.15562047, ..., -0.19086593,\n",
       "         1.35782733,  1.54699428],\n",
       "       ...,\n",
       "       [-1.14259331, -0.92485123, -0.09031802, ...,  0.09859138,\n",
       "         1.22133459, -1.0064672 ],\n",
       "       [-1.05458292, -0.84539315, -0.04021111, ...,  0.09427589,\n",
       "         1.22907893, -0.94655691],\n",
       "       [-0.78012947, -1.00430931, -0.07044252, ...,  0.10089941,\n",
       "         1.26309921, -0.85712102]])"
      ]
     },
     "execution_count": 4,
     "metadata": {},
     "output_type": "execute_result"
    }
   ],
   "source": [
    "X_transformed"
   ]
  },
  {
   "cell_type": "code",
   "execution_count": null,
   "id": "e7e6ea9f-c3b1-46db-98b5-08a1e10bb9ec",
   "metadata": {},
   "outputs": [],
   "source": []
  }
 ],
 "metadata": {
  "kernelspec": {
   "display_name": "Python 3 (ipykernel)",
   "language": "python",
   "name": "python3"
  },
  "language_info": {
   "codemirror_mode": {
    "name": "ipython",
    "version": 3
   },
   "file_extension": ".py",
   "mimetype": "text/x-python",
   "name": "python",
   "nbconvert_exporter": "python",
   "pygments_lexer": "ipython3",
   "version": "3.12.7"
  }
 },
 "nbformat": 4,
 "nbformat_minor": 5
}
