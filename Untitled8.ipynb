{
 "cells": [
  {
   "cell_type": "code",
   "execution_count": null,
   "id": "96c09840-77ef-4681-836e-5f75e5bd5ef3",
   "metadata": {},
   "outputs": [],
   "source": [
    "print('Jai Maa Kali_/\\_')"
   ]
  },
  {
   "cell_type": "code",
   "execution_count": null,
   "id": "925c5c7a-f63b-4111-a6d9-361603c9e104",
   "metadata": {},
   "outputs": [],
   "source": [
    "print('Jai Maa Kali_/\\_')"
   ]
  },
  {
   "cell_type": "code",
   "execution_count": null,
   "id": "8f5324a3-88fe-4ca9-b9cb-e87d6f224372",
   "metadata": {},
   "outputs": [],
   "source": [
    "import warnings\n",
    "import time"
   ]
  },
  {
   "cell_type": "code",
   "execution_count": null,
   "id": "41fbf3d2-afc1-4e50-953d-70096fd2a866",
   "metadata": {},
   "outputs": [],
   "source": [
    "warnings.filterwarnings('ignore')"
   ]
  },
  {
   "cell_type": "code",
   "execution_count": null,
   "id": "9a7cccae-27f6-47e8-b26d-2091f44469da",
   "metadata": {},
   "outputs": [],
   "source": [
    "from selenium import webdriver\n",
    "from selenium.webdriver.common.by import By"
   ]
  },
  {
   "cell_type": "code",
   "execution_count": null,
   "id": "58267d44-d906-46f6-96c5-8e864fcc1d68",
   "metadata": {},
   "outputs": [],
   "source": [
    "import pandas as pd\n",
    "import os\n",
    "import re"
   ]
  },
  {
   "cell_type": "code",
   "execution_count": null,
   "id": "421a9170-8bd9-41fb-856f-660739c3a52e",
   "metadata": {},
   "outputs": [],
   "source": [
    "import validators\n",
    "from selenium.webdriver.support.ui import WebDriverWait\n",
    "from selenium.webdriver.support import expected_conditions as EC"
   ]
  },
  {
   "cell_type": "code",
   "execution_count": null,
   "id": "239b8587-b6cb-4cd8-a695-9787ab3a8a9a",
   "metadata": {},
   "outputs": [],
   "source": [
    "url='https://nreganarep.nic.in/netnrega/writereaddata/state_out/jobcardreg_0203032001_eng.html'"
   ]
  },
  {
   "cell_type": "code",
   "execution_count": null,
   "id": "7ee38930-2b12-4174-bee0-27fb2d8340fc",
   "metadata": {},
   "outputs": [],
   "source": [
    "d=webdriver.Chrome()"
   ]
  },
  {
   "cell_type": "code",
   "execution_count": null,
   "id": "a22eb6ca-b484-4bd8-8ea7-6af577c0d13a",
   "metadata": {},
   "outputs": [],
   "source": [
    "d.get('https://nreganarep.nic.in/netnrega/writereaddata/state_out/jobcardreg_0203032001_eng.html')"
   ]
  },
  {
   "cell_type": "code",
   "execution_count": null,
   "id": "4ca268fd-c355-41ad-acfc-b2c0a27b847d",
   "metadata": {},
   "outputs": [],
   "source": [
    "links=d.find_elements(By.TAG_NAME,'a')"
   ]
  },
  {
   "cell_type": "code",
   "execution_count": null,
   "id": "097059ea-9627-435f-83da-b228e890c49e",
   "metadata": {},
   "outputs": [],
   "source": [
    "z=d.find_elements(By.TAG_NAME,'td')"
   ]
  },
  {
   "cell_type": "code",
   "execution_count": null,
   "id": "4a6a34e3-a57c-483b-b020-184856a1f0c3",
   "metadata": {},
   "outputs": [],
   "source": [
    "links=[i.get_attribute('href') for i in links]"
   ]
  },
  {
   "cell_type": "code",
   "execution_count": null,
   "id": "63e00982-73be-4c81-8bf7-0134a0def5e3",
   "metadata": {},
   "outputs": [],
   "source": [
    "try:\n",
    "    d.get(\"https://nreganarep.nic.in/netnrega/state_html/jcr.aspx?reg_no=AP-03-032-001-001/010006&village_code=0203032001001&fin_year=2023-2024&Digest=6lDVLtULeHcw4Ej+KoH15Q\")\n",
    "\n",
    "    # Wait for the element to be present\n",
    "    element = WebDriverWait(d, 10).until(\n",
    "        EC.presence_of_element_located((By.ID, \"element_id\"))\n",
    "    )\n",
    "    element.click()\n",
    "except Exception as e:\n",
    "    print(f\"Error: {e}\")"
   ]
  },
  {
   "cell_type": "code",
   "execution_count": null,
   "id": "feebce60-a779-41ee-95b8-bfa0b894f862",
   "metadata": {},
   "outputs": [],
   "source": [
    "#links\n",
    "#d.get(links[1])"
   ]
  },
  {
   "cell_type": "code",
   "execution_count": null,
   "id": "5540fb7a-2834-4119-9b8b-9086df1397c5",
   "metadata": {},
   "outputs": [],
   "source": [
    "WebDriverWait(d, 10).until(\n",
    "    EC.presence_of_element_located(x)\n",
    ")"
   ]
  },
  {
   "cell_type": "code",
   "execution_count": null,
   "id": "797cfd20-fd9f-40c7-8c5f-fca81dda85b6",
   "metadata": {},
   "outputs": [],
   "source": [
    "links=[i for i in links if validators.url(i)]"
   ]
  },
  {
   "cell_type": "code",
   "execution_count": null,
   "id": "242aa75d-3a87-47fe-bcc1-811ce681c0b4",
   "metadata": {},
   "outputs": [],
   "source": [
    "links=links[1::]"
   ]
  },
  {
   "cell_type": "code",
   "execution_count": null,
   "id": "542e30c0-4eea-4623-bdb6-606738ff4443",
   "metadata": {},
   "outputs": [],
   "source": [
    "len(links)"
   ]
  },
  {
   "cell_type": "code",
   "execution_count": null,
   "id": "f1217199-f222-4e7d-b52b-b2a4057a2f45",
   "metadata": {},
   "outputs": [],
   "source": [
    "#3\n",
    "def fun(links,names):\n",
    "    d.get(links)\n",
    "    df=pd.DataFrame(columns=['sno','Job_card_no','name'])\n",
    "    z=d.find_elements(By.TAG_NAME,'tr')\n",
    "    for i in z[4::]:\n",
    "        k=i.find_elements(By.TAG_NAME,'td')\n",
    "        k=[ j.text for j in k]\n",
    "        if len(k)==3:\n",
    "            l=len(df)\n",
    "            df.loc[l]=k\n",
    "    dir='C:\\\\Users\\\\barad\\\\OneDrive\\\\Desktop\\\\JMK\\\\job_cards_panchayats'\n",
    "    name=names+f'.csv'\n",
    "    dfs=os.path.join(dir,name)\n",
    "    df.to_csv(dfs,index=False)\n",
    "    \n",
    "    "
   ]
  },
  {
   "cell_type": "code",
   "execution_count": null,
   "id": "b4c270a4-1910-4c6a-8ee6-a468488e23f0",
   "metadata": {},
   "outputs": [],
   "source": [
    "#2\n",
    "def func(j):\n",
    "    d.get(j)\n",
    "    lins=d.find_elements(By.TAG_NAME,'a')\n",
    "    lins=[i.get_attribute('href') for i in lins]\n",
    "    lins=[i for i in lins if validators.url(i)]\n",
    "    lins=lins[1::]\n",
    "    z=d.find_elements(By.TAG_NAME,'tr')\n",
    "    JMK=[]\n",
    "    for i in z:\n",
    "        x=i.find_elements(By.TAG_NAME,'td')\n",
    "        x=[j.text for j in x]\n",
    "        if len(x)==15:\n",
    "            JMK.append(x[1])\n",
    "    JMK=JMK[2:-1]  \n",
    "    \n",
    "    combined=[ (lins[i],JMK[i]) for i in range(len(lins))]\n",
    "    for l,n in combined:\n",
    "        fun(l,n)\n",
    "    "
   ]
  },
  {
   "cell_type": "code",
   "execution_count": null,
   "id": "7440b68c-b8d8-4504-8607-18c1d1c3cccd",
   "metadata": {},
   "outputs": [],
   "source": [
    "#1\n",
    "for i in links:\n",
    "    d.get(i)\n",
    "    lin=d.find_elements(By.TAG_NAME,'a')\n",
    "    lin=[i.get_attribute('href') for i in lin]\n",
    "    lin=[i for i in lin if validators.url(i)]\n",
    "    lin=lin[1::]\n",
    "    for j in lin:\n",
    "        func(j)\n",
    "    \n",
    "    "
   ]
  },
  {
   "cell_type": "code",
   "execution_count": null,
   "id": "1dfae2aa-35d7-470d-96bb-da6b9c2b2e0c",
   "metadata": {},
   "outputs": [],
   "source": [
    "#panchayat names\n",
    "d=webdriver.Chrome()"
   ]
  },
  {
   "cell_type": "code",
   "execution_count": null,
   "id": "4f7e98b2-81be-4bdf-a7c6-9fc94b1e0cfc",
   "metadata": {},
   "outputs": [],
   "source": [
    "d.get('https://nreganarep.nic.in/netnrega/app_issue.aspx?page=b&lflag=&state_name=ANDHRA+PRADESH&state_code=02&district_name=ALLURI+SITHARAMA+RAJU&district_code=0214&block_code=0203001&block_name=Munchingiputtu&fin_year=2024-2025&source=national&Digest=9rSPsnzsQEocN7NqPO6UdA')"
   ]
  },
  {
   "cell_type": "code",
   "execution_count": null,
   "id": "0328d158-a498-4288-befa-d37a56366af3",
   "metadata": {},
   "outputs": [],
   "source": [
    "z=d.find_elements(By.TAG_NAME,'tr')"
   ]
  },
  {
   "cell_type": "code",
   "execution_count": null,
   "id": "b2cae7e2-c7ad-4b5e-9d11-62ceb6abac35",
   "metadata": {},
   "outputs": [],
   "source": [
    "JMK=[]\n",
    "for i in z:\n",
    "    x=i.find_elements(By.TAG_NAME,'td')\n",
    "    x=[j.text for j in x]\n",
    "    if len(x)==15:\n",
    "        JMK.append(x[1])\n",
    "JMK=JMK[2:-1]  "
   ]
  },
  {
   "cell_type": "code",
   "execution_count": null,
   "id": "8d16c38b-66e1-49d7-96b7-54fd2e0804d1",
   "metadata": {},
   "outputs": [],
   "source": [
    "JMK=JMK[2:-1]"
   ]
  },
  {
   "cell_type": "code",
   "execution_count": null,
   "id": "021fdc48-fec8-4394-aad1-118f37517643",
   "metadata": {},
   "outputs": [],
   "source": [
    "JMK"
   ]
  },
  {
   "cell_type": "code",
   "execution_count": null,
   "id": "1a07e81e-f380-41f2-9901-dce7b0854d4b",
   "metadata": {},
   "outputs": [],
   "source": []
  }
 ],
 "metadata": {
  "kernelspec": {
   "display_name": "Python 3 (ipykernel)",
   "language": "python",
   "name": "python3"
  },
  "language_info": {
   "codemirror_mode": {
    "name": "ipython",
    "version": 3
   },
   "file_extension": ".py",
   "mimetype": "text/x-python",
   "name": "python",
   "nbconvert_exporter": "python",
   "pygments_lexer": "ipython3",
   "version": "3.12.7"
  }
 },
 "nbformat": 4,
 "nbformat_minor": 5
}
