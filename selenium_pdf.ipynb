{
 "cells": [
  {
   "cell_type": "code",
   "execution_count": 4,
   "id": "0d5327a7-dc9f-4d13-92bc-448b3607ef21",
   "metadata": {},
   "outputs": [
    {
     "name": "stdout",
     "output_type": "stream",
     "text": [
      "Jai Maa Kali_/\\_\n"
     ]
    }
   ],
   "source": [
    "print('Jai Maa Kali_/\\_')"
   ]
  },
  {
   "cell_type": "code",
   "execution_count": 1,
   "id": "a40d3c45-28e3-4446-9b7f-8732e77d760e",
   "metadata": {},
   "outputs": [],
   "source": [
    "import warnings"
   ]
  },
  {
   "cell_type": "code",
   "execution_count": 2,
   "id": "55685fbd-9cfb-45a4-ad84-5df015ea23e3",
   "metadata": {},
   "outputs": [],
   "source": [
    "warnings.filterwarnings('ignore')"
   ]
  },
  {
   "cell_type": "code",
   "execution_count": 3,
   "id": "1beb9e41-c319-4168-a01e-34ef3b43bab5",
   "metadata": {},
   "outputs": [],
   "source": [
    "from selenium import webdriver"
   ]
  },
  {
   "cell_type": "code",
   "execution_count": 4,
   "id": "995b1693-d188-4e4c-867e-15c59cb844dd",
   "metadata": {},
   "outputs": [],
   "source": [
    "from selenium.webdriver.common.by import By"
   ]
  },
  {
   "cell_type": "code",
   "execution_count": 5,
   "id": "9f7040f4-642d-4988-bef6-68f3cb1b8b5d",
   "metadata": {},
   "outputs": [],
   "source": [
    "d=webdriver.Chrome()"
   ]
  },
  {
   "cell_type": "code",
   "execution_count": 6,
   "id": "45e394b1-3465-426f-a07b-005585ae9963",
   "metadata": {},
   "outputs": [],
   "source": [
    "url='https://www.toppr.com/guides/essays/essay-on-mother/'"
   ]
  },
  {
   "cell_type": "code",
   "execution_count": 7,
   "id": "bd0fcaf1-986d-43be-88bb-ab8646d82901",
   "metadata": {},
   "outputs": [],
   "source": [
    "d.get(url)"
   ]
  },
  {
   "cell_type": "code",
   "execution_count": 8,
   "id": "87e209b8-619e-4199-8f99-fd6765988836",
   "metadata": {},
   "outputs": [],
   "source": [
    "import time"
   ]
  },
  {
   "cell_type": "code",
   "execution_count": 9,
   "id": "32218048-93fc-4556-842b-d48bdb40bdd8",
   "metadata": {},
   "outputs": [],
   "source": [
    "time.sleep(3)"
   ]
  },
  {
   "cell_type": "code",
   "execution_count": 10,
   "id": "8d28edf7-2ab8-40b2-8933-49b0fdcc28cd",
   "metadata": {},
   "outputs": [],
   "source": [
    "import base64"
   ]
  },
  {
   "cell_type": "code",
   "execution_count": 11,
   "id": "086f14a5-23ee-4137-a7af-c2c163e933c3",
   "metadata": {},
   "outputs": [],
   "source": [
    "def fun(url,output_path):\n",
    "    c_o=webdriver.ChromeOptions()\n",
    "    c_o.add_argument('--headless')\n",
    "    c_o.add_argument('--disable-gpu')\n",
    "    d=webdriver.Chrome(options=c_o)\n",
    "    try:\n",
    "        pdf_format={\n",
    "            \"landscape\": False,\n",
    "            \"displayHeaderFooter\": False,\n",
    "            \"printBackground\": True,\n",
    "            \"preferCSSPageSize\": True,\n",
    "        }\n",
    "        \n",
    "        r=d.execute_cdp_cmd(\"Page.printToPDF\",pdf_format)\n",
    "        binary_data = base64.b64decode(r['data'])\n",
    "        with open(output_path,'wb') as f:\n",
    "            f.write(binary_data)\n",
    "    finally:\n",
    "        d.quit()"
   ]
  },
  {
   "cell_type": "code",
   "execution_count": 12,
   "id": "2f8dc373-26a0-4f86-9b3e-c2250d848e2d",
   "metadata": {},
   "outputs": [
    {
     "ename": "NameError",
     "evalue": "name 'path' is not defined",
     "output_type": "error",
     "traceback": [
      "\u001b[1;31m---------------------------------------------------------------------------\u001b[0m",
      "\u001b[1;31mNameError\u001b[0m                                 Traceback (most recent call last)",
      "Cell \u001b[1;32mIn[12], line 1\u001b[0m\n\u001b[1;32m----> 1\u001b[0m fun(url,path)\n",
      "\u001b[1;31mNameError\u001b[0m: name 'path' is not defined"
     ]
    }
   ],
   "source": [
    "fun(url,path)"
   ]
  },
  {
   "cell_type": "code",
   "execution_count": null,
   "id": "77e8e375-6f79-40de-8f45-a4b914a60514",
   "metadata": {},
   "outputs": [],
   "source": [
    "path='C:\\\\Users\\\\barad\\\\OneDrive\\\\Desktop\\\\JMKlui'"
   ]
  },
  {
   "cell_type": "code",
   "execution_count": null,
   "id": "62fc319a-2bda-4e5c-9cca-c5274fb3deee",
   "metadata": {},
   "outputs": [],
   "source": [
    "d=webdriver.Chrome()"
   ]
  },
  {
   "cell_type": "code",
   "execution_count": 42,
   "id": "1aaf5c8d-8176-442c-9dbe-cd1609bef3e3",
   "metadata": {},
   "outputs": [],
   "source": [
    "d.get(url)"
   ]
  },
  {
   "cell_type": "code",
   "execution_count": 44,
   "id": "470f50cc-23f0-4b22-930e-bd6075a978e8",
   "metadata": {},
   "outputs": [],
   "source": [
    "pdf_format={\n",
    "            \"landscape\": False,\n",
    "            \"displayHeaderFooter\": False,\n",
    "            \"printBackground\": True,\n",
    "            \"preferCSSPageSize\": True,}"
   ]
  },
  {
   "cell_type": "code",
   "execution_count": 46,
   "id": "59f3525e-e21c-4e9e-ae11-f0814d424e9f",
   "metadata": {},
   "outputs": [],
   "source": [
    "r=d.execute_cdp_cmd(\"Page.printToPDF\",pdf_format)\n",
    "      "
   ]
  },
  {
   "cell_type": "code",
   "execution_count": 48,
   "id": "90301c3a-6397-4bae-873f-77c8d6587f29",
   "metadata": {},
   "outputs": [],
   "source": [
    "binary_data = base64.b64decode(r['data'])"
   ]
  },
  {
   "cell_type": "code",
   "execution_count": 52,
   "id": "18737ef4-a473-42ad-b071-80afce9902f0",
   "metadata": {},
   "outputs": [],
   "source": [
    " with open('C:\\\\Users\\\\barad\\\\OneDrive\\\\Desktop\\\\JMKlui\\\\New.pdf','wb') as f:\n",
    "     f.write(binary_data)"
   ]
  },
  {
   "cell_type": "code",
   "execution_count": null,
   "id": "86badc6d-30f3-4fdc-997f-c752a512c1ec",
   "metadata": {},
   "outputs": [],
   "source": []
  }
 ],
 "metadata": {
  "kernelspec": {
   "display_name": "Python 3 (ipykernel)",
   "language": "python",
   "name": "python3"
  },
  "language_info": {
   "codemirror_mode": {
    "name": "ipython",
    "version": 3
   },
   "file_extension": ".py",
   "mimetype": "text/x-python",
   "name": "python",
   "nbconvert_exporter": "python",
   "pygments_lexer": "ipython3",
   "version": "3.12.7"
  }
 },
 "nbformat": 4,
 "nbformat_minor": 5
}
