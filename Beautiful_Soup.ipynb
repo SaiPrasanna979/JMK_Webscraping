{
 "cells": [
  {
   "cell_type": "code",
   "execution_count": 4,
   "id": "a6846470-e37f-4a12-bd99-ec5ecbad729a",
   "metadata": {},
   "outputs": [
    {
     "name": "stdout",
     "output_type": "stream",
     "text": [
      "Jai Maa Kali_/\\_\n"
     ]
    }
   ],
   "source": [
    "print('Jai Maa Kali_/\\_')"
   ]
  },
  {
   "cell_type": "code",
   "execution_count": 2,
   "id": "a8f49995-475d-4c64-99c8-ae332240bf1c",
   "metadata": {},
   "outputs": [],
   "source": [
    "import warnings"
   ]
  },
  {
   "cell_type": "code",
   "execution_count": 3,
   "id": "2cbad81e-b59a-4f2f-a346-b4588abff60d",
   "metadata": {},
   "outputs": [],
   "source": [
    "warnings.filterwarnings('ignore')"
   ]
  },
  {
   "cell_type": "code",
   "execution_count": 1,
   "id": "39e1c0fd-086c-4e41-9e6b-073c55a40e58",
   "metadata": {},
   "outputs": [],
   "source": [
    "import requests"
   ]
  },
  {
   "cell_type": "code",
   "execution_count": 2,
   "id": "2dbbc49e-c4fd-424e-8aa8-2f9c89822f0b",
   "metadata": {},
   "outputs": [],
   "source": [
    "import pandas as pd"
   ]
  },
  {
   "cell_type": "code",
   "execution_count": 3,
   "id": "e50c9ee4-a3a7-46a9-9a31-ec3b07101f1e",
   "metadata": {},
   "outputs": [],
   "source": [
    "from bs4 import BeautifulSoup"
   ]
  },
  {
   "cell_type": "code",
   "execution_count": 6,
   "id": "dfe8c836-8c29-4850-a421-9d4c9638ebe3",
   "metadata": {},
   "outputs": [],
   "source": [
    "url='https://www.iplt20.com/auction/2020'\n",
    "r=requests.get(url)"
   ]
  },
  {
   "cell_type": "code",
   "execution_count": 7,
   "id": "1fc34001-3319-4d6d-aba8-025f69fcc33f",
   "metadata": {},
   "outputs": [
    {
     "name": "stdout",
     "output_type": "stream",
     "text": [
      "<Response [200]>\n"
     ]
    }
   ],
   "source": [
    "print(r)"
   ]
  },
  {
   "cell_type": "code",
   "execution_count": 11,
   "id": "9c44d4cd-76a6-4e6a-af43-ecb180f31fcf",
   "metadata": {},
   "outputs": [],
   "source": [
    "soup=BeautifulSoup(r.text,'lxml')"
   ]
  },
  {
   "cell_type": "code",
   "execution_count": 13,
   "id": "0623cdee-6028-4d84-83af-00b17065a862",
   "metadata": {},
   "outputs": [],
   "source": [
    "z=soup.find('table',class_='ih-td-tab auction-tbl')"
   ]
  },
  {
   "cell_type": "code",
   "execution_count": 14,
   "id": "0463b020-4f2b-459a-9531-c1b6b38e0922",
   "metadata": {},
   "outputs": [],
   "source": [
    "header=z.find_all('th')"
   ]
  },
  {
   "cell_type": "code",
   "execution_count": 18,
   "id": "50cce0ab-5523-41b5-a3e4-18597b1844af",
   "metadata": {},
   "outputs": [
    {
     "name": "stdout",
     "output_type": "stream",
     "text": [
      "SR. NO\n",
      "TEAM\n",
      "FUNDS REMAINING\n",
      "OVERSEAS PLAYERS \n",
      "TOTAL PLAYERS\n"
     ]
    }
   ],
   "source": [
    "c=[]\n",
    "for i in header:\n",
    "    c.append(i.text)\n",
    "    print(i.text)"
   ]
  },
  {
   "cell_type": "code",
   "execution_count": 20,
   "id": "025b8358-e980-4be8-af69-15c03568cd85",
   "metadata": {},
   "outputs": [
    {
     "data": {
      "text/plain": [
       "['SR. NO', 'TEAM', 'FUNDS REMAINING', 'OVERSEAS PLAYERS ', 'TOTAL PLAYERS']"
      ]
     },
     "execution_count": 20,
     "metadata": {},
     "output_type": "execute_result"
    }
   ],
   "source": [
    "c#columns"
   ]
  },
  {
   "cell_type": "code",
   "execution_count": 21,
   "id": "0dfc0cbe-015b-457b-aa15-31c9060d36c6",
   "metadata": {},
   "outputs": [],
   "source": [
    "rows=z.find_all('tr')"
   ]
  },
  {
   "cell_type": "code",
   "execution_count": 40,
   "id": "873e3196-509f-41aa-ac15-cfffa5e93020",
   "metadata": {},
   "outputs": [],
   "source": [
    "for i in rows[1:]:\n",
    "    m=i.find_all('td')\n",
    "    row=[j.text for j in m]\n",
    "    l=len(df)\n",
    "    df.loc[l]=row\n",
    "    "
   ]
  },
  {
   "cell_type": "code",
   "execution_count": 29,
   "id": "b65f7c2b-5e1d-44f0-88b3-53cbd08d3013",
   "metadata": {},
   "outputs": [],
   "source": [
    "df=pd.DataFrame(columns=c)"
   ]
  },
  {
   "cell_type": "code",
   "execution_count": 41,
   "id": "9f413396-59c9-45d9-bde3-21c7d1ad615d",
   "metadata": {},
   "outputs": [
    {
     "data": {
      "text/html": [
       "<div>\n",
       "<style scoped>\n",
       "    .dataframe tbody tr th:only-of-type {\n",
       "        vertical-align: middle;\n",
       "    }\n",
       "\n",
       "    .dataframe tbody tr th {\n",
       "        vertical-align: top;\n",
       "    }\n",
       "\n",
       "    .dataframe thead th {\n",
       "        text-align: right;\n",
       "    }\n",
       "</style>\n",
       "<table border=\"1\" class=\"dataframe\">\n",
       "  <thead>\n",
       "    <tr style=\"text-align: right;\">\n",
       "      <th></th>\n",
       "      <th>SR. NO</th>\n",
       "      <th>TEAM</th>\n",
       "      <th>FUNDS REMAINING</th>\n",
       "      <th>OVERSEAS PLAYERS</th>\n",
       "      <th>TOTAL PLAYERS</th>\n",
       "    </tr>\n",
       "  </thead>\n",
       "  <tbody>\n",
       "    <tr>\n",
       "      <th>0</th>\n",
       "      <td></td>\n",
       "      <td>\\n\\n\\n\\n\\nChennai Super Kings\\n\\n</td>\n",
       "      <td>₹15,00,000</td>\n",
       "      <td>8</td>\n",
       "      <td>24</td>\n",
       "    </tr>\n",
       "    <tr>\n",
       "      <th>1</th>\n",
       "      <td></td>\n",
       "      <td>\\n\\n\\n\\n\\nDelhi Capitals\\n\\n</td>\n",
       "      <td>₹9,00,00,000</td>\n",
       "      <td>8</td>\n",
       "      <td>22</td>\n",
       "    </tr>\n",
       "    <tr>\n",
       "      <th>2</th>\n",
       "      <td></td>\n",
       "      <td>\\n\\n\\n\\n\\nKings XI Punjab\\n\\n</td>\n",
       "      <td>₹16,50,00,000</td>\n",
       "      <td>8</td>\n",
       "      <td>25</td>\n",
       "    </tr>\n",
       "    <tr>\n",
       "      <th>3</th>\n",
       "      <td></td>\n",
       "      <td>\\n\\n\\n\\n\\nKolkata Knight Riders\\n\\n</td>\n",
       "      <td>₹8,50,00,000</td>\n",
       "      <td>8</td>\n",
       "      <td>23</td>\n",
       "    </tr>\n",
       "    <tr>\n",
       "      <th>4</th>\n",
       "      <td></td>\n",
       "      <td>\\n\\n\\n\\n\\nMumbai Indians\\n\\n</td>\n",
       "      <td>₹1,95,00,000</td>\n",
       "      <td>8</td>\n",
       "      <td>24</td>\n",
       "    </tr>\n",
       "    <tr>\n",
       "      <th>5</th>\n",
       "      <td></td>\n",
       "      <td>\\n\\n\\n\\n\\nRajasthan Royals\\n\\n</td>\n",
       "      <td>₹14,75,00,000</td>\n",
       "      <td>8</td>\n",
       "      <td>25</td>\n",
       "    </tr>\n",
       "    <tr>\n",
       "      <th>6</th>\n",
       "      <td></td>\n",
       "      <td>\\n\\n\\n\\n\\nRoyal Challengers Bangalore\\n\\n</td>\n",
       "      <td>₹6,40,00,000</td>\n",
       "      <td>8</td>\n",
       "      <td>21</td>\n",
       "    </tr>\n",
       "    <tr>\n",
       "      <th>7</th>\n",
       "      <td></td>\n",
       "      <td>\\n\\n\\n\\n\\nSunrisers Hyderabad\\n\\n</td>\n",
       "      <td>₹10,10,00,000</td>\n",
       "      <td>8</td>\n",
       "      <td>25</td>\n",
       "    </tr>\n",
       "  </tbody>\n",
       "</table>\n",
       "</div>"
      ],
      "text/plain": [
       "  SR. NO                                       TEAM FUNDS REMAINING  \\\n",
       "0                 \\n\\n\\n\\n\\nChennai Super Kings\\n\\n      ₹15,00,000   \n",
       "1                      \\n\\n\\n\\n\\nDelhi Capitals\\n\\n    ₹9,00,00,000   \n",
       "2                     \\n\\n\\n\\n\\nKings XI Punjab\\n\\n   ₹16,50,00,000   \n",
       "3               \\n\\n\\n\\n\\nKolkata Knight Riders\\n\\n    ₹8,50,00,000   \n",
       "4                      \\n\\n\\n\\n\\nMumbai Indians\\n\\n    ₹1,95,00,000   \n",
       "5                    \\n\\n\\n\\n\\nRajasthan Royals\\n\\n   ₹14,75,00,000   \n",
       "6         \\n\\n\\n\\n\\nRoyal Challengers Bangalore\\n\\n    ₹6,40,00,000   \n",
       "7                 \\n\\n\\n\\n\\nSunrisers Hyderabad\\n\\n   ₹10,10,00,000   \n",
       "\n",
       "  OVERSEAS PLAYERS  TOTAL PLAYERS  \n",
       "0                 8            24  \n",
       "1                 8            22  \n",
       "2                 8            25  \n",
       "3                 8            23  \n",
       "4                 8            24  \n",
       "5                 8            25  \n",
       "6                 8            21  \n",
       "7                 8            25  "
      ]
     },
     "execution_count": 41,
     "metadata": {},
     "output_type": "execute_result"
    }
   ],
   "source": [
    "df"
   ]
  },
  {
   "cell_type": "code",
   "execution_count": 39,
   "id": "8a25a4ba-4215-4d24-a326-e18aef217e89",
   "metadata": {},
   "outputs": [
    {
     "data": {
      "text/plain": [
       "0"
      ]
     },
     "execution_count": 39,
     "metadata": {},
     "output_type": "execute_result"
    }
   ],
   "source": [
    "len(df)"
   ]
  },
  {
   "cell_type": "code",
   "execution_count": null,
   "id": "b5d9effa-708a-4806-b674-3425cec27b9e",
   "metadata": {},
   "outputs": [],
   "source": []
  }
 ],
 "metadata": {
  "kernelspec": {
   "display_name": "Python 3 (ipykernel)",
   "language": "python",
   "name": "python3"
  },
  "language_info": {
   "codemirror_mode": {
    "name": "ipython",
    "version": 3
   },
   "file_extension": ".py",
   "mimetype": "text/x-python",
   "name": "python",
   "nbconvert_exporter": "python",
   "pygments_lexer": "ipython3",
   "version": "3.12.7"
  }
 },
 "nbformat": 4,
 "nbformat_minor": 5
}
