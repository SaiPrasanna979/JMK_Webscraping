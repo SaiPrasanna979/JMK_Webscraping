{
 "cells": [
  {
   "cell_type": "code",
   "execution_count": 4,
   "id": "b95fda0f-a9b2-4eaa-aa4d-e5cd3e7c86af",
   "metadata": {},
   "outputs": [
    {
     "name": "stdout",
     "output_type": "stream",
     "text": [
      "Jai Maa Kali_/\\_\n"
     ]
    }
   ],
   "source": [
    "print('Jai Maa Kali_/\\_')"
   ]
  },
  {
   "cell_type": "code",
   "execution_count": 2,
   "id": "5a61fabe-b586-45f1-a7ea-a6de7dc54106",
   "metadata": {},
   "outputs": [],
   "source": [
    "import warnings"
   ]
  },
  {
   "cell_type": "code",
   "execution_count": 3,
   "id": "a71774b6-0eaf-42ff-aedb-9dd141a302a8",
   "metadata": {},
   "outputs": [],
   "source": [
    "warnings.filterwarnings('ignore')"
   ]
  },
  {
   "cell_type": "code",
   "execution_count": 5,
   "id": "4acf5812-1a11-4f71-98bb-15781b982b5f",
   "metadata": {},
   "outputs": [],
   "source": [
    "from selenium import webdriver\n",
    "import pandas as pd\n",
    "from selenium.webdriver.common.by import By"
   ]
  },
  {
   "cell_type": "code",
   "execution_count": 54,
   "id": "a1bd3b0d-6847-4896-8853-fe8207b81b00",
   "metadata": {},
   "outputs": [],
   "source": [
    "url='https://nreganarep.nic.in/netnrega/app_issue.aspx?page=s&lflag=eng&state_name=ANDHRA%20PRADESH&state_code=02&fin_year=2023-2024&source=national&Digest=Fs+9iTu7pQCA/fT0ctav4w'"
   ]
  },
  {
   "cell_type": "code",
   "execution_count": 70,
   "id": "dc117020-a651-47fe-839a-3813f3a75f91",
   "metadata": {},
   "outputs": [],
   "source": [
    "d=webdriver.Chrome()\n",
    "d.get(url)"
   ]
  },
  {
   "cell_type": "code",
   "execution_count": 71,
   "id": "22d577ec-d4af-4959-a3c5-f78158de9c02",
   "metadata": {},
   "outputs": [],
   "source": [
    "urls=d.find_elements(By.TAG_NAME,'a')"
   ]
  },
  {
   "cell_type": "code",
   "execution_count": 72,
   "id": "070e1709-59f9-496a-8d16-9c36f4b4c9d7",
   "metadata": {},
   "outputs": [],
   "source": [
    "urls=[i.get_attribute('href') for i in urls]"
   ]
  },
  {
   "cell_type": "code",
   "execution_count": 75,
   "id": "acc1dc63-292b-441c-bd6a-563d84a4a6bb",
   "metadata": {},
   "outputs": [],
   "source": [
    "import validators"
   ]
  },
  {
   "cell_type": "code",
   "execution_count": 74,
   "id": "4815c92e-fb4a-42bb-94b5-9a3ef0e0fead",
   "metadata": {},
   "outputs": [],
   "source": [
    "#urls"
   ]
  },
  {
   "cell_type": "code",
   "execution_count": 76,
   "id": "244796c0-0a09-4be6-9491-cffa336d3ee4",
   "metadata": {},
   "outputs": [],
   "source": [
    "urls=[i for i in urls if validators.url(i)]"
   ]
  },
  {
   "cell_type": "code",
   "execution_count": 77,
   "id": "52bef9db-c1ec-4364-94dc-1086a6837c34",
   "metadata": {},
   "outputs": [],
   "source": [
    "urls=urls[1::]"
   ]
  },
  {
   "cell_type": "code",
   "execution_count": 78,
   "id": "73b17e4d-fbe1-4945-ac11-fc7854060cd4",
   "metadata": {},
   "outputs": [
    {
     "data": {
      "text/plain": [
       "26"
      ]
     },
     "execution_count": 78,
     "metadata": {},
     "output_type": "execute_result"
    }
   ],
   "source": [
    "len(urls)"
   ]
  },
  {
   "cell_type": "code",
   "execution_count": null,
   "id": "8fa261a4-6e73-4a1e-aedf-6f72a8e7ae46",
   "metadata": {},
   "outputs": [],
   "source": [
    "for i in urls:#main links District\n",
    "    fun(i)"
   ]
  },
  {
   "cell_type": "code",
   "execution_count": 83,
   "id": "be84d5d1-c35f-4b6e-8f31-f29147012026",
   "metadata": {},
   "outputs": [],
   "source": [
    "def fun(url):\n",
    "    d.get(url)\n",
    "    m=d.find_elements(By.TAG_NAME,'a')#block links\n",
    "    m=[i.get_attribute('href') for i in m]\n",
    "    m=[i for i in m if validators.url(i)]\n",
    "    m=m[1::]\n",
    "    for j in m:\n",
    "        lin=d.find_elements(By.TAG_NAME,'a')#block links\n",
    "        lin=[i.get_attribute('href') for i in lin]\n",
    "        lin=[i for i in lin if validators.url(i)]\n",
    "        lin=lin[1::]\n",
    "        \n",
    "        for k in lin:\n",
    "            print(k)\n",
    "            \n",
    "        \n",
    "    "
   ]
  },
  {
   "cell_type": "code",
   "execution_count": 82,
   "id": "58bb6df6-2a8f-4de3-8b05-d20b66ecf2fc",
   "metadata": {},
   "outputs": [],
   "source": [
    "def func(url):\n",
    "    d.get(url)\n",
    "    f=d.find_elements(By.TAG_NAME,'tr')\n",
    "    df=pd.DataFrame(columns=['sno','Job_card_no','name'])\n",
    "    for i in f[4::]:\n",
    "        k=i.find_elements(By.TAG_NAME,'td')\n",
    "        k=[ j.text for j in k]\n",
    "        if len(k)==3:\n",
    "            l=len(df)\n",
    "            df.loc[l]=k\n",
    "    dir='C:\\\\Users\\\\barad\\\\OneDrive\\\\Desktop\\\\JMK\\\\job_cards_panchayats'\n",
    "    file_name = panchayat+f\".csv\"\n",
    "    dfs=os.path.join(dir,file_name)\n",
    "    df.to_csv(dfs,index=False)"
   ]
  },
  {
   "cell_type": "code",
   "execution_count": 26,
   "id": "ccbddde7-1c77-4361-9e3a-cab40e96cb4d",
   "metadata": {},
   "outputs": [],
   "source": [
    "d.get('https://nreganarep.nic.in/netnrega/writereaddata/state_out/jobcardreg_0203001001_eng.html')"
   ]
  },
  {
   "cell_type": "code",
   "execution_count": 39,
   "id": "520a50e2-c92c-454e-8573-4e271fdaf7dc",
   "metadata": {},
   "outputs": [],
   "source": [
    "df=pd.DataFrame(columns=['sno','Job_card_no','name'])"
   ]
  },
  {
   "cell_type": "code",
   "execution_count": 40,
   "id": "7e924fc4-7cca-44a2-9b2d-3178d698119d",
   "metadata": {},
   "outputs": [],
   "source": [
    "z=d.find_elements(By.TAG_NAME,'tr')\n",
    "for i in z[4::]:\n",
    "    k=i.find_elements(By.TAG_NAME,'td')\n",
    "    k=[ j.text for j in k]\n",
    "    if len(k)==3:\n",
    "        l=len(df)\n",
    "        df.loc[l]=k\n",
    "    \n",
    "    \n",
    "    \n",
    "    "
   ]
  },
  {
   "cell_type": "code",
   "execution_count": 32,
   "id": "22f97550-c11a-446c-99bb-ab6ff17f6ff8",
   "metadata": {},
   "outputs": [
    {
     "data": {
      "text/plain": [
       "512"
      ]
     },
     "execution_count": 32,
     "metadata": {},
     "output_type": "execute_result"
    }
   ],
   "source": [
    "len(l)"
   ]
  },
  {
   "cell_type": "code",
   "execution_count": 41,
   "id": "b242e5cd-787e-4e03-8d7d-950d8f1394a9",
   "metadata": {},
   "outputs": [
    {
     "data": {
      "text/html": [
       "<div>\n",
       "<style scoped>\n",
       "    .dataframe tbody tr th:only-of-type {\n",
       "        vertical-align: middle;\n",
       "    }\n",
       "\n",
       "    .dataframe tbody tr th {\n",
       "        vertical-align: top;\n",
       "    }\n",
       "\n",
       "    .dataframe thead th {\n",
       "        text-align: right;\n",
       "    }\n",
       "</style>\n",
       "<table border=\"1\" class=\"dataframe\">\n",
       "  <thead>\n",
       "    <tr style=\"text-align: right;\">\n",
       "      <th></th>\n",
       "      <th>sno</th>\n",
       "      <th>Job_card_no</th>\n",
       "      <th>name</th>\n",
       "    </tr>\n",
       "  </thead>\n",
       "  <tbody>\n",
       "    <tr>\n",
       "      <th>0</th>\n",
       "      <td>1</td>\n",
       "      <td>AP-03-001-001-001/010002</td>\n",
       "      <td>Narsing</td>\n",
       "    </tr>\n",
       "    <tr>\n",
       "      <th>1</th>\n",
       "      <td>2</td>\n",
       "      <td>AP-03-001-001-001/010003</td>\n",
       "      <td>Dasu</td>\n",
       "    </tr>\n",
       "    <tr>\n",
       "      <th>2</th>\n",
       "      <td>3</td>\n",
       "      <td>AP-03-001-001-001/010004</td>\n",
       "      <td>Arjun</td>\n",
       "    </tr>\n",
       "    <tr>\n",
       "      <th>3</th>\n",
       "      <td>4</td>\n",
       "      <td>AP-03-001-001-001/010006</td>\n",
       "      <td>Subbarao</td>\n",
       "    </tr>\n",
       "    <tr>\n",
       "      <th>4</th>\n",
       "      <td>5</td>\n",
       "      <td>AP-03-001-001-001/010007</td>\n",
       "      <td>Guru</td>\n",
       "    </tr>\n",
       "    <tr>\n",
       "      <th>...</th>\n",
       "      <td>...</td>\n",
       "      <td>...</td>\n",
       "      <td>...</td>\n",
       "    </tr>\n",
       "    <tr>\n",
       "      <th>499</th>\n",
       "      <td>500</td>\n",
       "      <td>AP-03-001-001-026/010043</td>\n",
       "      <td>SUBBARAO</td>\n",
       "    </tr>\n",
       "    <tr>\n",
       "      <th>500</th>\n",
       "      <td>501</td>\n",
       "      <td>AP-03-001-001-026/10045</td>\n",
       "      <td>PANGI GOPAL</td>\n",
       "    </tr>\n",
       "    <tr>\n",
       "      <th>501</th>\n",
       "      <td>502</td>\n",
       "      <td>AP-03-001-001-026/10046</td>\n",
       "      <td>PANGI BABURAO</td>\n",
       "    </tr>\n",
       "    <tr>\n",
       "      <th>502</th>\n",
       "      <td>503</td>\n",
       "      <td>AP-03-001-001-026/10151</td>\n",
       "      <td>PANGI SUKADEV</td>\n",
       "    </tr>\n",
       "    <tr>\n",
       "      <th>503</th>\n",
       "      <td>504</td>\n",
       "      <td>AP-03-001-001-026/10152</td>\n",
       "      <td>PANGI MONIMMA</td>\n",
       "    </tr>\n",
       "  </tbody>\n",
       "</table>\n",
       "<p>504 rows × 3 columns</p>\n",
       "</div>"
      ],
      "text/plain": [
       "     sno               Job_card_no           name\n",
       "0      1  AP-03-001-001-001/010002        Narsing\n",
       "1      2  AP-03-001-001-001/010003           Dasu\n",
       "2      3  AP-03-001-001-001/010004          Arjun\n",
       "3      4  AP-03-001-001-001/010006       Subbarao\n",
       "4      5  AP-03-001-001-001/010007           Guru\n",
       "..   ...                       ...            ...\n",
       "499  500  AP-03-001-001-026/010043       SUBBARAO\n",
       "500  501   AP-03-001-001-026/10045    PANGI GOPAL\n",
       "501  502   AP-03-001-001-026/10046  PANGI BABURAO\n",
       "502  503   AP-03-001-001-026/10151  PANGI SUKADEV\n",
       "503  504   AP-03-001-001-026/10152  PANGI MONIMMA\n",
       "\n",
       "[504 rows x 3 columns]"
      ]
     },
     "execution_count": 41,
     "metadata": {},
     "output_type": "execute_result"
    }
   ],
   "source": [
    "df"
   ]
  },
  {
   "cell_type": "code",
   "execution_count": 1,
   "id": "71f16d2c-d834-49d2-84a4-3f1a26f8a0b7",
   "metadata": {},
   "outputs": [],
   "source": [
    "#webpage to pdf"
   ]
  },
  {
   "cell_type": "code",
   "execution_count": 4,
   "id": "e343c02a-d0b7-4017-911a-ef3116481edc",
   "metadata": {},
   "outputs": [],
   "source": [
    "from selenium import webdriver\n",
    "import pdfkit\n",
    "import time\n",
    "import os"
   ]
  },
  {
   "cell_type": "code",
   "execution_count": 3,
   "id": "0682428f-196b-490b-b890-a3c111aa3088",
   "metadata": {},
   "outputs": [
    {
     "name": "stdout",
     "output_type": "stream",
     "text": [
      "Jai Maa Kali_/\\_\n"
     ]
    },
    {
     "name": "stderr",
     "output_type": "stream",
     "text": [
      "<>:1: SyntaxWarning: invalid escape sequence '\\_'\n",
      "<>:1: SyntaxWarning: invalid escape sequence '\\_'\n",
      "C:\\Users\\barad\\AppData\\Local\\Temp\\ipykernel_12916\\2338759233.py:1: SyntaxWarning: invalid escape sequence '\\_'\n",
      "  print('Jai Maa Kali_/\\_')\n"
     ]
    }
   ],
   "source": [
    "print('Jai Maa Kali_/\\_')"
   ]
  },
  {
   "cell_type": "code",
   "execution_count": 25,
   "id": "f105b1d0-80aa-41ed-a1a6-3c45e00f4c6d",
   "metadata": {},
   "outputs": [],
   "source": [
    "d=webdriver.Chrome()"
   ]
  },
  {
   "cell_type": "code",
   "execution_count": 30,
   "id": "d45c7a4e-9d4d-4255-b80b-41c755fbed20",
   "metadata": {},
   "outputs": [],
   "source": [
    "url='https://nreganarep.nic.in/netnrega/writereaddata/state_out/jobcardreg_0212002001_eng.html'\n",
    "from selenium.webdriver.common.by import By"
   ]
  },
  {
   "cell_type": "code",
   "execution_count": 27,
   "id": "8b878b71-ca22-462b-8ef8-08f9ac975137",
   "metadata": {},
   "outputs": [],
   "source": [
    "d.get(url)"
   ]
  },
  {
   "cell_type": "code",
   "execution_count": 12,
   "id": "0f8978f2-d833-4442-933c-57adf77e6972",
   "metadata": {},
   "outputs": [],
   "source": [
    "import validators"
   ]
  },
  {
   "cell_type": "code",
   "execution_count": 24,
   "id": "dfeceaf3-0037-4c7a-84e2-3a2b3b90c52f",
   "metadata": {},
   "outputs": [
    {
     "data": {
      "text/plain": [
       "ValidationError(func=url, args={'value': ''})"
      ]
     },
     "execution_count": 24,
     "metadata": {},
     "output_type": "execute_result"
    }
   ],
   "source": [
    "validators.url(url)"
   ]
  },
  {
   "cell_type": "code",
   "execution_count": 31,
   "id": "9e33e438-7dbe-4b03-965e-c045f3454f2d",
   "metadata": {},
   "outputs": [],
   "source": [
    "z=d.find_elements(By.TAG_NAME,'a')"
   ]
  },
  {
   "cell_type": "code",
   "execution_count": 32,
   "id": "20e0fedb-dae2-484c-a337-58f5620e2849",
   "metadata": {},
   "outputs": [],
   "source": [
    "z=[i.get_attribute('href') for i in z]"
   ]
  },
  {
   "cell_type": "code",
   "execution_count": 33,
   "id": "5edf7358-2980-419f-b181-71319b04ea5d",
   "metadata": {},
   "outputs": [],
   "source": [
    "z=[i for i in z if validators.url(i)]"
   ]
  },
  {
   "cell_type": "code",
   "execution_count": 35,
   "id": "fbd7afbf-0a4a-4a91-a31f-ecfb8e1dafc3",
   "metadata": {},
   "outputs": [],
   "source": [
    "t=z[1]"
   ]
  },
  {
   "cell_type": "code",
   "execution_count": 36,
   "id": "39c1af52-a882-4660-a8a2-b8b777765ffa",
   "metadata": {},
   "outputs": [],
   "source": [
    "d.get(t)"
   ]
  },
  {
   "cell_type": "code",
   "execution_count": 37,
   "id": "62b73571-8bcc-4d67-ab66-6455798c04cb",
   "metadata": {},
   "outputs": [
    {
     "data": {
      "text/plain": [
       "'https://nreganarep.nic.in/netnrega/state_html/jcr.aspx?reg_no=AP-12-002-001-001/010003&village_code=0212002001001&fin_year=2020-2021&Digest=6pc7kUEWJhuyP5W7eG22kA'"
      ]
     },
     "execution_count": 37,
     "metadata": {},
     "output_type": "execute_result"
    }
   ],
   "source": [
    "t"
   ]
  },
  {
   "cell_type": "code",
   "execution_count": null,
   "id": "65444d8f-fe26-43da-b4a3-29b0955dc999",
   "metadata": {},
   "outputs": [],
   "source": []
  }
 ],
 "metadata": {
  "kernelspec": {
   "display_name": "Python 3 (ipykernel)",
   "language": "python",
   "name": "python3"
  },
  "language_info": {
   "codemirror_mode": {
    "name": "ipython",
    "version": 3
   },
   "file_extension": ".py",
   "mimetype": "text/x-python",
   "name": "python",
   "nbconvert_exporter": "python",
   "pygments_lexer": "ipython3",
   "version": "3.12.7"
  }
 },
 "nbformat": 4,
 "nbformat_minor": 5
}
