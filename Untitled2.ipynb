{
 "cells": [
  {
   "cell_type": "code",
   "execution_count": 1,
   "id": "1615223b-2f68-45c3-bf33-f16b07c69294",
   "metadata": {},
   "outputs": [
    {
     "name": "stdout",
     "output_type": "stream",
     "text": [
      "Defaulting to user installation because normal site-packages is not writeable\n",
      "Requirement already satisfied: nltk in c:\\programdata\\anaconda3\\lib\\site-packages (3.9.1)\n",
      "Requirement already satisfied: click in c:\\programdata\\anaconda3\\lib\\site-packages (from nltk) (8.1.7)\n",
      "Requirement already satisfied: joblib in c:\\programdata\\anaconda3\\lib\\site-packages (from nltk) (1.4.2)\n",
      "Requirement already satisfied: regex>=2021.8.3 in c:\\programdata\\anaconda3\\lib\\site-packages (from nltk) (2024.9.11)\n",
      "Requirement already satisfied: tqdm in c:\\programdata\\anaconda3\\lib\\site-packages (from nltk) (4.66.5)\n",
      "Requirement already satisfied: colorama in c:\\programdata\\anaconda3\\lib\\site-packages (from click->nltk) (0.4.6)\n",
      "Note: you may need to restart the kernel to use updated packages.\n"
     ]
    }
   ],
   "source": [
    "pip install nltk"
   ]
  },
  {
   "cell_type": "code",
   "execution_count": 2,
   "id": "eac9fa9f-8f89-4ff0-a979-caceaf6c80ac",
   "metadata": {},
   "outputs": [
    {
     "name": "stderr",
     "output_type": "stream",
     "text": [
      "[nltk_data] Downloading package wordnet to\n",
      "[nltk_data]     C:\\Users\\barad\\AppData\\Roaming\\nltk_data...\n",
      "[nltk_data]   Package wordnet is already up-to-date!\n",
      "[nltk_data] Downloading package omw-1.4 to\n",
      "[nltk_data]     C:\\Users\\barad\\AppData\\Roaming\\nltk_data...\n"
     ]
    },
    {
     "name": "stdout",
     "output_type": "stream",
     "text": [
      "Original: running\n",
      "Verb Lemma: run\n",
      "Noun Lemma: running\n",
      "Adj Lemma: running\n",
      "--------------------------------------------------\n",
      "Original: better\n",
      "Verb Lemma: better\n",
      "Noun Lemma: better\n",
      "Adj Lemma: good\n",
      "--------------------------------------------------\n",
      "Original: flies\n",
      "Verb Lemma: fly\n",
      "Noun Lemma: fly\n",
      "Adj Lemma: flies\n",
      "--------------------------------------------------\n",
      "Original: went\n",
      "Verb Lemma: go\n",
      "Noun Lemma: went\n",
      "Adj Lemma: went\n",
      "--------------------------------------------------\n",
      "Original: happiest\n",
      "Verb Lemma: happiest\n",
      "Noun Lemma: happiest\n",
      "Adj Lemma: happy\n",
      "--------------------------------------------------\n"
     ]
    }
   ],
   "source": [
    "import nltk\n",
    "from nltk.corpus import wordnet\n",
    "from nltk.stem import WordNetLemmatizer\n",
    "\n",
    "# Download necessary NLTK resources\n",
    "nltk.download('wordnet')\n",
    "nltk.download('omw-1.4')\n",
    "\n",
    "# Initialize the WordNet Lemmatizer\n",
    "lemmatizer = WordNetLemmatizer()\n",
    "\n",
    "# Define some words to demonstrate lemmatization\n",
    "words = ['running', 'better', 'flies', 'went', 'happiest']\n",
    "\n",
    "# Lemmatize the words using WordNet (as verbs, adjectives, and nouns)\n",
    "lemmatized_words = {\n",
    "    word: {\n",
    "        'verb': lemmatizer.lemmatize(word, wordnet.VERB),\n",
    "        'noun': lemmatizer.lemmatize(word, wordnet.NOUN),\n",
    "        'adj': lemmatizer.lemmatize(word, wordnet.ADJ)\n",
    "    }\n",
    "    for word in words\n",
    "}\n",
    "\n",
    "# Display the lemmatized results\n",
    "for word, lemmata in lemmatized_words.items():\n",
    "    print(f\"Original: {word}\")\n",
    "    print(f\"Verb Lemma: {lemmata['verb']}\")\n",
    "    print(f\"Noun Lemma: {lemmata['noun']}\")\n",
    "    print(f\"Adj Lemma: {lemmata['adj']}\")\n",
    "    print('-' * 50)\n"
   ]
  },
  {
   "cell_type": "code",
   "execution_count": 3,
   "id": "f5459de2-c508-4d6a-a8b9-dd6e41065720",
   "metadata": {},
   "outputs": [
    {
     "name": "stdout",
     "output_type": "stream",
     "text": [
      "Original Words: ['running', 'better', 'flies', 'went', 'happiest', 'studying', 'children', 'ran', 'amazing']\n",
      "\n",
      "Stemmed (Porter): ['run', 'better', 'fli', 'went', 'happiest', 'studi', 'children', 'ran', 'amaz']\n",
      "Stemmed (Lancaster): ['run', 'bet', 'fli', 'went', 'happiest', 'study', 'childr', 'ran', 'amaz']\n",
      "\n",
      "Lemmatized (Verb): ['run', 'better', 'fly', 'go', 'happiest', 'study', 'children', 'run', 'amaze']\n",
      "Lemmatized (Noun): ['running', 'better', 'fly', 'went', 'happiest', 'studying', 'child', 'ran', 'amazing']\n",
      "Lemmatized (Adj): ['running', 'good', 'flies', 'went', 'happy', 'studying', 'children', 'ran', 'amazing']\n"
     ]
    },
    {
     "name": "stderr",
     "output_type": "stream",
     "text": [
      "[nltk_data] Downloading package wordnet to\n",
      "[nltk_data]     C:\\Users\\barad\\AppData\\Roaming\\nltk_data...\n",
      "[nltk_data]   Package wordnet is already up-to-date!\n",
      "[nltk_data] Downloading package omw-1.4 to\n",
      "[nltk_data]     C:\\Users\\barad\\AppData\\Roaming\\nltk_data...\n",
      "[nltk_data]   Package omw-1.4 is already up-to-date!\n"
     ]
    }
   ],
   "source": [
    "import nltk\n",
    "from nltk.stem import PorterStemmer, LancasterStemmer\n",
    "from nltk.corpus import wordnet\n",
    "from nltk.stem import WordNetLemmatizer\n",
    "\n",
    "# Download necessary NLTK resources\n",
    "nltk.download('wordnet')\n",
    "nltk.download('omw-1.4')\n",
    "\n",
    "# Initialize the stemmers and lemmatizer\n",
    "porter_stemmer = PorterStemmer()\n",
    "lancaster_stemmer = LancasterStemmer()\n",
    "lemmatizer = WordNetLemmatizer()\n",
    "\n",
    "# Define a list of words for demonstration\n",
    "words = ['running', 'better', 'flies', 'went', 'happiest', 'studying', 'children', 'ran', 'amazing']\n",
    "\n",
    "# Stemming and Lemmatization using different methods\n",
    "stemmed_porter = [porter_stemmer.stem(word) for word in words]\n",
    "stemmed_lancaster = [lancaster_stemmer.stem(word) for word in words]\n",
    "\n",
    "lemmatized_words_verb = [lemmatizer.lemmatize(word, wordnet.VERB) for word in words]\n",
    "lemmatized_words_noun = [lemmatizer.lemmatize(word, wordnet.NOUN) for word in words]\n",
    "lemmatized_words_adj = [lemmatizer.lemmatize(word, wordnet.ADJ) for word in words]\n",
    "\n",
    "# Display the results\n",
    "print(\"Original Words:\", words)\n",
    "print(\"\\nStemmed (Porter):\", stemmed_porter)\n",
    "print(\"Stemmed (Lancaster):\", stemmed_lancaster)\n",
    "print(\"\\nLemmatized (Verb):\", lemmatized_words_verb)\n",
    "print(\"Lemmatized (Noun):\", lemmatized_words_noun)\n",
    "print(\"Lemmatized (Adj):\", lemmatized_words_adj)\n"
   ]
  },
  {
   "cell_type": "code",
   "execution_count": null,
   "id": "2e09f349-2b1a-4f90-8012-c6e61bc8192d",
   "metadata": {},
   "outputs": [],
   "source": []
  }
 ],
 "metadata": {
  "kernelspec": {
   "display_name": "Python 3 (ipykernel)",
   "language": "python",
   "name": "python3"
  },
  "language_info": {
   "codemirror_mode": {
    "name": "ipython",
    "version": 3
   },
   "file_extension": ".py",
   "mimetype": "text/x-python",
   "name": "python",
   "nbconvert_exporter": "python",
   "pygments_lexer": "ipython3",
   "version": "3.12.7"
  }
 },
 "nbformat": 4,
 "nbformat_minor": 5
}
