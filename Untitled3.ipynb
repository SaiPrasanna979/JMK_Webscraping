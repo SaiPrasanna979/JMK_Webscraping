{
 "cells": [
  {
   "cell_type": "code",
   "execution_count": 15,
   "id": "a990072c-527f-446c-9cc1-6e60ff107837",
   "metadata": {},
   "outputs": [
    {
     "name": "stdout",
     "output_type": "stream",
     "text": [
      "Jai Maa KALI_/\\_\n"
     ]
    },
    {
     "name": "stderr",
     "output_type": "stream",
     "text": [
      "<>:1: SyntaxWarning: invalid escape sequence '\\_'\n",
      "<>:1: SyntaxWarning: invalid escape sequence '\\_'\n",
      "C:\\Users\\barad\\AppData\\Local\\Temp\\ipykernel_3468\\913251040.py:1: SyntaxWarning: invalid escape sequence '\\_'\n",
      "  print('Jai Maa KALI_/\\_')\n"
     ]
    }
   ],
   "source": [
    "print('Jai Maa KALI_/\\_')"
   ]
  },
  {
   "cell_type": "code",
   "execution_count": 2,
   "id": "906bd3f0-a335-478c-baa2-989e92269048",
   "metadata": {},
   "outputs": [],
   "source": [
    "from selenium import webdriver"
   ]
  },
  {
   "cell_type": "code",
   "execution_count": 3,
   "id": "2fcb73c3-e67f-4ca9-b7cb-d2b86459e9a0",
   "metadata": {},
   "outputs": [],
   "source": [
    "import pandas as pd\n",
    "import time\n",
    "from selenium.webdriver.common.by import By"
   ]
  },
  {
   "cell_type": "code",
   "execution_count": null,
   "id": "49db60ac-c938-4139-bf99-e9a236ab4f9d",
   "metadata": {},
   "outputs": [],
   "source": [
    "url='https://www.adamchoi.co.uk/teamgoals/detailed'"
   ]
  },
  {
   "cell_type": "code",
   "execution_count": null,
   "id": "932c1cec-7818-4b42-b00b-571b5339e74d",
   "metadata": {},
   "outputs": [],
   "source": [
    "d=webdriver.Chrome()"
   ]
  },
  {
   "cell_type": "code",
   "execution_count": null,
   "id": "d1e8fa99-3fb9-43ab-8a9c-c7d1ebf5c9d6",
   "metadata": {},
   "outputs": [],
   "source": [
    "d.get(url)"
   ]
  },
  {
   "cell_type": "code",
   "execution_count": null,
   "id": "893529d4-cfc6-4846-80e6-e957a85b4916",
   "metadata": {},
   "outputs": [],
   "source": [
    "x=d.find_element(By.XPATH,'//label[@analytics-event=\"All matches\"]')\n",
    "x.click()"
   ]
  },
  {
   "cell_type": "code",
   "execution_count": null,
   "id": "3524ca99-e04a-4e73-8013-c34d1120088c",
   "metadata": {},
   "outputs": [],
   "source": [
    "z=d.find_elements(By.TAG_NAME,'table')"
   ]
  },
  {
   "cell_type": "code",
   "execution_count": null,
   "id": "a75d6f19-5a13-44ef-8d28-d5d1b37ce390",
   "metadata": {},
   "outputs": [],
   "source": [
    "df=pd.DataFrame(columns=[1,2,3,4])"
   ]
  },
  {
   "cell_type": "code",
   "execution_count": null,
   "id": "bfcf1521-e2fe-4574-8a75-81c3d4cf7811",
   "metadata": {},
   "outputs": [],
   "source": [
    "\n",
    "for i in z:\n",
    "    df = pd.DataFrame(columns=[1,2,3,4])\n",
    "    c=i.find_elements(By.TAG_NAME,'tr')\n",
    "    \n",
    "    for jmk,j in enumerate(c):\n",
    "        cv=j.find_elements(By.TAG_NAME,'td')\n",
    "        cv=[k.text for k in cv]\n",
    "    \n",
    "        if len(cv)>1:\n",
    "            b=len(df)\n",
    "            df.loc[b]=cv\n",
    "        filename = f\"DataFrame_{jmk}.csv\"\n",
    "        df.to_csv(filename,index=False)\n",
    "      \n",
    "            \n",
    "            \n",
    "        \n",
    "        \n",
    "            "
   ]
  },
  {
   "cell_type": "code",
   "execution_count": null,
   "id": "940d4d86-1337-47c8-9c45-ed4a5c68d2c3",
   "metadata": {},
   "outputs": [],
   "source": [
    "df"
   ]
  },
  {
   "cell_type": "code",
   "execution_count": null,
   "id": "cec070f6-0334-4636-b8aa-28e6b0de3a5f",
   "metadata": {},
   "outputs": [],
   "source": [
    "for i in (2):\n",
    "    x=x[1]"
   ]
  },
  {
   "cell_type": "code",
   "execution_count": null,
   "id": "d46b9844-d53e-4b2c-8664-16493ba880c5",
   "metadata": {},
   "outputs": [],
   "source": [
    "data = [{\"value\": i} for i in range(1, 51)] "
   ]
  },
  {
   "cell_type": "code",
   "execution_count": null,
   "id": "831714ee-a8ba-4be9-bb39-158a4620933c",
   "metadata": {},
   "outputs": [],
   "source": [
    "data"
   ]
  },
  {
   "cell_type": "code",
   "execution_count": null,
   "id": "06a2cb82-cd6e-4551-9ecf-d68aa9d98cd6",
   "metadata": {},
   "outputs": [],
   "source": [
    "print('Ohh Dear Mother Kali,its you who wrote,Thank you Mother Kali,Jai Maa KALI_/\\_')"
   ]
  },
  {
   "cell_type": "code",
   "execution_count": null,
   "id": "a208cb2f-a3c6-4c0d-a9e0-eeccd1eacdfe",
   "metadata": {},
   "outputs": [],
   "source": [
    "#MNREGA\n",
    "print('Jai Maa Kali_/\\_')"
   ]
  },
  {
   "cell_type": "code",
   "execution_count": 4,
   "id": "27e8289b-8345-400c-b6a5-6d50f6d21aee",
   "metadata": {},
   "outputs": [],
   "source": [
    "url='https://nreganarep.nic.in/netnrega/app_issue.aspx?page=s&lflag=eng&state_name=ANDHRA%20PRADESH&state_code=02&fin_year=2024-2025&source=national&Digest=MPAE1Gu5xzz3Cyx6tZOVdw'"
   ]
  },
  {
   "cell_type": "code",
   "execution_count": 5,
   "id": "1ad33eb0-923f-4922-af7d-175f2a575839",
   "metadata": {},
   "outputs": [],
   "source": [
    "d=webdriver.Chrome()"
   ]
  },
  {
   "cell_type": "code",
   "execution_count": 6,
   "id": "2387fc92-5067-4974-89a1-0d23d565bcf6",
   "metadata": {},
   "outputs": [],
   "source": [
    "d.get(url)\n",
    "time.sleep(2)"
   ]
  },
  {
   "cell_type": "code",
   "execution_count": 23,
   "id": "c0252872-0ecc-423e-a051-6bdf4429fb83",
   "metadata": {},
   "outputs": [],
   "source": [
    "t=d.find_elements(By.TAG_NAME,'table')"
   ]
  },
  {
   "cell_type": "code",
   "execution_count": null,
   "id": "073fac45-daa6-4c7d-930c-2b6a9214acc6",
   "metadata": {},
   "outputs": [],
   "source": [
    "for i,m in enumerate(t):\n",
    "    print('---------------------------------------------')\n",
    "    cv=m.find_elements(By.TAG_NAME,'tr')\n",
    "    for j in cv:\n",
    "        print(j.text)"
   ]
  },
  {
   "cell_type": "code",
   "execution_count": 24,
   "id": "197a41a0-5b11-4af2-ab07-053df6041b9f",
   "metadata": {},
   "outputs": [
    {
     "data": {
      "text/plain": [
       "8"
      ]
     },
     "execution_count": 24,
     "metadata": {},
     "output_type": "execute_result"
    }
   ],
   "source": [
    "len(t)"
   ]
  },
  {
   "cell_type": "code",
   "execution_count": 10,
   "id": "ab5f231f-4e91-470b-9b03-1c04428dcef4",
   "metadata": {},
   "outputs": [
    {
     "name": "stdout",
     "output_type": "stream",
     "text": [
      "S.No Districts Number of Jobcards Registered Workers Number of Active\n",
      "\n",
      "Job Cards * Active Workers *\n",
      "Applied for Issued SCs STs Others Total Workers Women SCs STs Others Total Workers Women\n",
      "1 2 3 4 5 6 7 8 9 10 11 12 13 14 15\n",
      "Total 6918825 6888681 2781841 1050771 8292974 12125586 6431747 5722006 2289128 903322 6423938 9616388 5212551\n",
      "1 ALLURI SITHARAMA RAJU 246154 245186 11064 429976 32052 473092 240334 229507 9140 390435 26708 426283 215978\n",
      "2 ANAKAPALLI 281188 279912 38009 17488 385588 441085 252101 237554 32578 16060 317607 366245 213919\n",
      "3 ANANTAPUR 308726 305743 103040 18775 447004 568819 295904 258317 88779 16338 350293 455410 239383\n",
      "4 ANNAMAYYA 247937 246019 75412 15168 324995 415575 223661 203481 62129 11975 249123 323227 176979\n",
      "5 BAPATLA 266184 265496 155303 18983 294391 468677 243589 211730 131160 14092 226103 371355 195240\n",
      "6 CHITTOOR 266496 265156 125755 15858 336109 477722 257689 214344 100943 12539 245284 358766 199568\n",
      "7 EAST GODAVARI 165821 165076 76418 3519 175618 255555 131956 124403 65084 3023 112431 180538 94686\n",
      "8 ELURU 373485 372724 223516 58123 390509 672148 345990 318630 192210 49743 309871 551824 290793\n",
      "9 GUNTUR 125843 125248 86072 7128 114549 207749 113916 90669 67501 5282 76920 149703 82862\n",
      "10 KAKINADA 283595 281983 109709 10054 341895 461658 223588 208139 84107 7828 218986 310921 147828\n",
      "11 KONASEEMA 227547 227287 140908 3046 205360 349314 183737 153269 105054 2084 119441 226579 125655\n",
      "12 KRISHNA 213851 213396 132086 6611 239053 377750 195824 175832 113501 5329 189579 308409 159994\n",
      "13 KURNOOL 328297 326686 120260 8312 493210 621782 317779 259379 97304 6639 363971 467914 243096\n",
      "14 NANDYAL 255810 254696 125338 16202 334294 475834 251566 210270 102400 12621 257210 372231 202906\n",
      "15 NELLORE 343883 342248 160746 39929 375573 576248 310916 277700 126034 26585 285180 437799 244608\n",
      "16 NTR 205084 204449 133895 25861 205904 365660 195391 174449 114617 22013 165202 301832 164488\n",
      "17 PALNADU 331250 329673 139640 51181 378093 568914 297755 261297 115466 39657 291206 446329 236632\n",
      "18 PARVATHIPURAM MANYAM 208939 207927 48171 139839 204954 392964 207781 192389 41645 126701 178029 346375 184988\n",
      "19 PRAKASAM 439323 437387 222610 27778 559191 809579 425888 381079 184927 20218 472446 677591 363589\n",
      "20 SRI SATHYA SAI 274937 272769 72084 27838 405707 505629 260524 223864 60650 24091 309078 393819 204604\n",
      "21 SRIKAKULAM 431806 430571 66017 41897 627666 735580 421685 380019 53749 36051 512197 601997 360743\n",
      "22 TIRUPATI 267499 266503 170206 39561 251227 460994 251864 224005 139854 30275 194375 364504 204554\n",
      "23 VISAKHAPATANAM 36050 35881 4756 506 50047 55309 33756 31525 4096 449 42600 47145 29550\n",
      "24 VIZIANAGARAM 384090 383466 79294 18956 587748 685998 375977 352466 68022 16756 508917 593695 335938\n",
      "25 WEST GODAVARI 179744 178836 75275 2227 217255 294757 148670 136194 56993 1645 153033 211671 109242\n",
      "26 Y.S.R 225286 224363 86257 5955 314982 407194 223906 191495 71185 4893 248148 324226 184728\n",
      "Total 6918825 6888681 2781841 1050771 8292974 12125586 6431747 5722006 2289128 903322 6423938 9616388 5212551\n"
     ]
    }
   ],
   "source": [
    "b=t[6]\n",
    "\n",
    "cv=b.find_elements(By.TAG_NAME,'tr')\n",
    "for j in cv:\n",
    "    print(j.text)"
   ]
  },
  {
   "cell_type": "code",
   "execution_count": 11,
   "id": "577618df-8287-4a1a-af2e-522a65150c29",
   "metadata": {},
   "outputs": [
    {
     "name": "stdout",
     "output_type": "stream",
     "text": [
      "Govt. of India\n",
      "Ministry of Rural Development\n",
      "Department of Rural Development\n",
      "The Mahatma Gandhi National Rural Employment Guarantee Act 01-Jan-2025 07:00:51 PM \n",
      "Back   Home\n",
      "All IPPE NRLM\n",
      "All IPPE NRLM\n",
      "All Job Card Issued\n",
      "All Job Card Issued\n",
      "\n",
      "All IPPE NRLM\n",
      "All Job Card Issued\n",
      "S.No Districts Number of Jobcards Registered Workers Number of Active\n",
      "\n",
      "Job Cards * Active Workers *\n",
      "Applied for Issued SCs STs Others Total Workers Women SCs STs Others Total Workers Women\n",
      "1 2 3 4 5 6 7 8 9 10 11 12 13 14 15\n",
      "Total 6918825 6888681 2781841 1050771 8292974 12125586 6431747 5722006 2289128 903322 6423938 9616388 5212551\n",
      "1 ALLURI SITHARAMA RAJU 246154 245186 11064 429976 32052 473092 240334 229507 9140 390435 26708 426283 215978\n",
      "2 ANAKAPALLI 281188 279912 38009 17488 385588 441085 252101 237554 32578 16060 317607 366245 213919\n",
      "3 ANANTAPUR 308726 305743 103040 18775 447004 568819 295904 258317 88779 16338 350293 455410 239383\n",
      "4 ANNAMAYYA 247937 246019 75412 15168 324995 415575 223661 203481 62129 11975 249123 323227 176979\n",
      "5 BAPATLA 266184 265496 155303 18983 294391 468677 243589 211730 131160 14092 226103 371355 195240\n",
      "6 CHITTOOR 266496 265156 125755 15858 336109 477722 257689 214344 100943 12539 245284 358766 199568\n",
      "7 EAST GODAVARI 165821 165076 76418 3519 175618 255555 131956 124403 65084 3023 112431 180538 94686\n",
      "8 ELURU 373485 372724 223516 58123 390509 672148 345990 318630 192210 49743 309871 551824 290793\n",
      "9 GUNTUR 125843 125248 86072 7128 114549 207749 113916 90669 67501 5282 76920 149703 82862\n",
      "10 KAKINADA 283595 281983 109709 10054 341895 461658 223588 208139 84107 7828 218986 310921 147828\n",
      "11 KONASEEMA 227547 227287 140908 3046 205360 349314 183737 153269 105054 2084 119441 226579 125655\n",
      "12 KRISHNA 213851 213396 132086 6611 239053 377750 195824 175832 113501 5329 189579 308409 159994\n",
      "13 KURNOOL 328297 326686 120260 8312 493210 621782 317779 259379 97304 6639 363971 467914 243096\n",
      "14 NANDYAL 255810 254696 125338 16202 334294 475834 251566 210270 102400 12621 257210 372231 202906\n",
      "15 NELLORE 343883 342248 160746 39929 375573 576248 310916 277700 126034 26585 285180 437799 244608\n",
      "16 NTR 205084 204449 133895 25861 205904 365660 195391 174449 114617 22013 165202 301832 164488\n",
      "17 PALNADU 331250 329673 139640 51181 378093 568914 297755 261297 115466 39657 291206 446329 236632\n",
      "18 PARVATHIPURAM MANYAM 208939 207927 48171 139839 204954 392964 207781 192389 41645 126701 178029 346375 184988\n",
      "19 PRAKASAM 439323 437387 222610 27778 559191 809579 425888 381079 184927 20218 472446 677591 363589\n",
      "20 SRI SATHYA SAI 274937 272769 72084 27838 405707 505629 260524 223864 60650 24091 309078 393819 204604\n",
      "21 SRIKAKULAM 431806 430571 66017 41897 627666 735580 421685 380019 53749 36051 512197 601997 360743\n",
      "22 TIRUPATI 267499 266503 170206 39561 251227 460994 251864 224005 139854 30275 194375 364504 204554\n",
      "23 VISAKHAPATANAM 36050 35881 4756 506 50047 55309 33756 31525 4096 449 42600 47145 29550\n",
      "24 VIZIANAGARAM 384090 383466 79294 18956 587748 685998 375977 352466 68022 16756 508917 593695 335938\n",
      "25 WEST GODAVARI 179744 178836 75275 2227 217255 294757 148670 136194 56993 1645 153033 211671 109242\n",
      "26 Y.S.R 225286 224363 86257 5955 314982 407194 223906 191495 71185 4893 248148 324226 184728\n",
      "Total 6918825 6888681 2781841 1050771 8292974 12125586 6431747 5722006 2289128 903322 6423938 9616388 5212551\n",
      "*Active Jobcards:Any individuals of households who has worked any one day in either the last three financial year or in current financial year\n"
     ]
    }
   ],
   "source": [
    "for i in t:\n",
    "    cv=i.find_elements(By.TAG_NAME,'tr')\n",
    "    for j in cv:\n",
    "        print(j.text)"
   ]
  },
  {
   "cell_type": "code",
   "execution_count": 12,
   "id": "f3bb5c63-1f74-4fda-bd01-7b3881b6d508",
   "metadata": {},
   "outputs": [],
   "source": [
    "col=['S.No','Districts','Number of Jobcards applied','Number of Jobcards issued','Registered Workers SCs','Registered Workers STs',\n",
    "     'Registered Workers others','Registered Workers Total Workers','Registered Workers Women','Number of Active Job Cards',\n",
    "     'Active Workers SCs','Active Workers STs',\n",
    "     'Active Workers others','Active Workers Total Workers','Active Workers Women']\n",
    "     "
   ]
  },
  {
   "cell_type": "code",
   "execution_count": 13,
   "id": "513f32d3-56cf-433f-aef8-0bde1cf606e8",
   "metadata": {},
   "outputs": [
    {
     "name": "stdout",
     "output_type": "stream",
     "text": [
      "S.No\n",
      "Districts\n",
      "Number of Jobcards applied\n",
      "Number of Jobcards issued\n",
      "Registered Workers SCs\n",
      "Registered Workers STs\n",
      "Registered Workers others\n",
      "Registered Workers Total Workers\n",
      "Registered Workers Women\n",
      "Number of Active Job Cards\n",
      "Active Workers SCs\n",
      "Active Workers STs\n",
      "Active Workers others\n",
      "Active Workers Total Workers\n",
      "Active Workers Women\n"
     ]
    }
   ],
   "source": [
    "for i in col:\n",
    "    print(i)"
   ]
  },
  {
   "cell_type": "code",
   "execution_count": 14,
   "id": "659fcf0a-ecf6-4795-9378-c3c6dba84657",
   "metadata": {},
   "outputs": [
    {
     "name": "stdout",
     "output_type": "stream",
     "text": [
      "Jai Maa KALI_/\\_\n"
     ]
    },
    {
     "name": "stderr",
     "output_type": "stream",
     "text": [
      "<>:2: SyntaxWarning: invalid escape sequence '\\_'\n",
      "<>:2: SyntaxWarning: invalid escape sequence '\\_'\n",
      "C:\\Users\\barad\\AppData\\Local\\Temp\\ipykernel_3468\\4265610130.py:2: SyntaxWarning: invalid escape sequence '\\_'\n",
      "  print('Jai Maa KALI_/\\_')\n"
     ]
    }
   ],
   "source": [
    "len(col)\n",
    "print('Jai Maa KALI_/\\_')"
   ]
  },
  {
   "cell_type": "code",
   "execution_count": 25,
   "id": "b174588a-4969-4a3d-9375-2558e5bf13f1",
   "metadata": {},
   "outputs": [],
   "source": [
    "b=t[6]\n",
    "#i=b.find_elements(By.TAG_NAME,'tr')\n",
    "df=pd.DataFrame(columns=col)"
   ]
  },
  {
   "cell_type": "code",
   "execution_count": 32,
   "id": "7204f820-ddb8-434a-8cf0-6740ac13e5ae",
   "metadata": {},
   "outputs": [
    {
     "name": "stdout",
     "output_type": "stream",
     "text": [
      "Total 6918825 6888681 2781841 1050771 8292974 12125586 6431747 5722006 2289128 903322 6423938 9616388 5212551\n",
      "1 ALLURI SITHARAMA RAJU 246154 245186 11064 429976 32052 473092 240334 229507 9140 390435 26708 426283 215978\n",
      "2 ANAKAPALLI 281188 279912 38009 17488 385588 441085 252101 237554 32578 16060 317607 366245 213919\n",
      "3 ANANTAPUR 308726 305743 103040 18775 447004 568819 295904 258317 88779 16338 350293 455410 239383\n",
      "4 ANNAMAYYA 247937 246019 75412 15168 324995 415575 223661 203481 62129 11975 249123 323227 176979\n",
      "5 BAPATLA 266184 265496 155303 18983 294391 468677 243589 211730 131160 14092 226103 371355 195240\n",
      "6 CHITTOOR 266496 265156 125755 15858 336109 477722 257689 214344 100943 12539 245284 358766 199568\n",
      "7 EAST GODAVARI 165821 165076 76418 3519 175618 255555 131956 124403 65084 3023 112431 180538 94686\n",
      "8 ELURU 373485 372724 223516 58123 390509 672148 345990 318630 192210 49743 309871 551824 290793\n",
      "9 GUNTUR 125843 125248 86072 7128 114549 207749 113916 90669 67501 5282 76920 149703 82862\n",
      "10 KAKINADA 283595 281983 109709 10054 341895 461658 223588 208139 84107 7828 218986 310921 147828\n",
      "11 KONASEEMA 227547 227287 140908 3046 205360 349314 183737 153269 105054 2084 119441 226579 125655\n",
      "12 KRISHNA 213851 213396 132086 6611 239053 377750 195824 175832 113501 5329 189579 308409 159994\n",
      "13 KURNOOL 328297 326686 120260 8312 493210 621782 317779 259379 97304 6639 363971 467914 243096\n",
      "14 NANDYAL 255810 254696 125338 16202 334294 475834 251566 210270 102400 12621 257210 372231 202906\n",
      "15 NELLORE 343883 342248 160746 39929 375573 576248 310916 277700 126034 26585 285180 437799 244608\n",
      "16 NTR 205084 204449 133895 25861 205904 365660 195391 174449 114617 22013 165202 301832 164488\n",
      "17 PALNADU 331250 329673 139640 51181 378093 568914 297755 261297 115466 39657 291206 446329 236632\n",
      "18 PARVATHIPURAM MANYAM 208939 207927 48171 139839 204954 392964 207781 192389 41645 126701 178029 346375 184988\n",
      "19 PRAKASAM 439323 437387 222610 27778 559191 809579 425888 381079 184927 20218 472446 677591 363589\n",
      "20 SRI SATHYA SAI 274937 272769 72084 27838 405707 505629 260524 223864 60650 24091 309078 393819 204604\n",
      "21 SRIKAKULAM 431806 430571 66017 41897 627666 735580 421685 380019 53749 36051 512197 601997 360743\n",
      "22 TIRUPATI 267499 266503 170206 39561 251227 460994 251864 224005 139854 30275 194375 364504 204554\n",
      "23 VISAKHAPATANAM 36050 35881 4756 506 50047 55309 33756 31525 4096 449 42600 47145 29550\n",
      "24 VIZIANAGARAM 384090 383466 79294 18956 587748 685998 375977 352466 68022 16756 508917 593695 335938\n",
      "25 WEST GODAVARI 179744 178836 75275 2227 217255 294757 148670 136194 56993 1645 153033 211671 109242\n",
      "26 Y.S.R 225286 224363 86257 5955 314982 407194 223906 191495 71185 4893 248148 324226 184728\n",
      "Total 6918825 6888681 2781841 1050771 8292974 12125586 6431747 5722006 2289128 903322 6423938 9616388 5212551\n"
     ]
    }
   ],
   "source": [
    "i=b.find_elements(By.TAG_NAME,'tr')\n",
    "for k in i[3:]:\n",
    "    print(k.text)\n",
    "    "
   ]
  },
  {
   "cell_type": "code",
   "execution_count": 33,
   "id": "83d7a9c9-3d38-458b-ac57-9db705a75645",
   "metadata": {},
   "outputs": [],
   "source": [
    "i=b.find_elements(By.TAG_NAME,'tr')\n",
    "for j in i[3::]:\n",
    "    op=j.find_elements(By.TAG_NAME,'td')\n",
    "    l=[ k.text for k in op]\n",
    "    er=len(df)\n",
    "    df.loc[er]=l\n",
    "    "
   ]
  },
  {
   "cell_type": "code",
   "execution_count": 1,
   "id": "0f242b7b-0890-4537-9619-f20b8ad33c00",
   "metadata": {},
   "outputs": [
    {
     "ename": "NameError",
     "evalue": "name 'df' is not defined",
     "output_type": "error",
     "traceback": [
      "\u001b[1;31m---------------------------------------------------------------------------\u001b[0m",
      "\u001b[1;31mNameError\u001b[0m                                 Traceback (most recent call last)",
      "Cell \u001b[1;32mIn[1], line 1\u001b[0m\n\u001b[1;32m----> 1\u001b[0m df\u001b[38;5;241m.\u001b[39mreset_index(inplace\u001b[38;5;241m=\u001b[39m\u001b[38;5;28;01mTrue\u001b[39;00m)\n",
      "\u001b[1;31mNameError\u001b[0m: name 'df' is not defined"
     ]
    }
   ],
   "source": [
    "df.reset_index(inplace=True)\n"
   ]
  },
  {
   "cell_type": "code",
   "execution_count": 35,
   "id": "a33f7fd3-c722-49ea-b6eb-82b3fcf319d3",
   "metadata": {},
   "outputs": [],
   "source": [
    "title=d.find_element(By.XPATH,'//span[@id=\"ContentPlaceHolder1_lbl_head\"]').text"
   ]
  },
  {
   "cell_type": "code",
   "execution_count": 36,
   "id": "58e2445f-d55d-4b56-93f5-69c5f59beeda",
   "metadata": {},
   "outputs": [
    {
     "name": "stdout",
     "output_type": "stream",
     "text": [
      "State: ANDHRA PRADESH\n"
     ]
    }
   ],
   "source": [
    "print(title)"
   ]
  },
  {
   "cell_type": "code",
   "execution_count": null,
   "id": "606ce9e0-807e-4d3e-a581-db6ea7791cd3",
   "metadata": {},
   "outputs": [],
   "source": [
    "#import re\n",
    "#state=re.findall(\"(State[^\\n]+)District\",title)[0]\n",
    "#dis=re.findall(\"(District[^\\n]+)Block\",title)[0]\n",
    "#block=re.findall(\"Block[^\\n]+\",title)[0]"
   ]
  },
  {
   "cell_type": "code",
   "execution_count": null,
   "id": "51763535-8dbc-44aa-bb2b-6984831dfe63",
   "metadata": {},
   "outputs": [],
   "source": [
    "#ndf=pd.DataFrame([[state] + [dis]+[block]+[''] * (len(df.columns) - 3)], columns=df.columns)"
   ]
  },
  {
   "cell_type": "code",
   "execution_count": null,
   "id": "4ed4b174-00bb-456c-a232-439d06280bef",
   "metadata": {},
   "outputs": [],
   "source": [
    "#ndf"
   ]
  },
  {
   "cell_type": "code",
   "execution_count": null,
   "id": "61dbd169-4c63-4bc8-89b0-48bb1800e19c",
   "metadata": {},
   "outputs": [],
   "source": [
    "#pd.concat([ndf, df], ignore_index=True)"
   ]
  },
  {
   "cell_type": "code",
   "execution_count": 48,
   "id": "5d5c4c32-d7f2-4813-843e-f5546e757b16",
   "metadata": {},
   "outputs": [],
   "source": [
    "dir='C:\\\\Users\\\\barad\\\\OneDrive\\\\Desktop\\\\JMK'\n",
    "dir2='C:\\\\Users\\\\barad\\\\OneDrive\\\\Desktop\\\\JMK\\\\jmk1'"
   ]
  },
  {
   "cell_type": "code",
   "execution_count": 38,
   "id": "ace80fc2-029f-4feb-91b1-1a3dab76fb60",
   "metadata": {},
   "outputs": [],
   "source": [
    "import os"
   ]
  },
  {
   "cell_type": "code",
   "execution_count": 58,
   "id": "e4a70fe7-16ac-4fbe-bcf5-9d211a18fadf",
   "metadata": {},
   "outputs": [],
   "source": [
    "dfs=os.path.join(dir,'jmk.csv')"
   ]
  },
  {
   "cell_type": "code",
   "execution_count": 59,
   "id": "bad42a58-f8db-42f1-853c-3e922cbafdc8",
   "metadata": {},
   "outputs": [],
   "source": [
    "df.to_csv(dfs,index=False)"
   ]
  },
  {
   "cell_type": "code",
   "execution_count": 74,
   "id": "bda45960-feff-4bcc-b69f-22b4fddf37db",
   "metadata": {},
   "outputs": [],
   "source": [
    "with open (dfs,\"w\",newline=\"\") as f:\n",
    "    f.write(title + \"\\n\")\n",
    "    df.to_csv(f,index=False,header=True)#appends to file f\n",
    "    "
   ]
  },
  {
   "cell_type": "code",
   "execution_count": 51,
   "id": "dc06470c-22f7-4dc6-828d-1d2b23f81864",
   "metadata": {},
   "outputs": [
    {
     "data": {
      "text/plain": [
       "'State: ANDHRA PRADESH'"
      ]
     },
     "execution_count": 51,
     "metadata": {},
     "output_type": "execute_result"
    }
   ],
   "source": [
    "title"
   ]
  },
  {
   "cell_type": "code",
   "execution_count": 65,
   "id": "654d683b-df59-41aa-9a56-61d2e10b7c49",
   "metadata": {},
   "outputs": [],
   "source": [
    "import io"
   ]
  },
  {
   "cell_type": "code",
   "execution_count": 66,
   "id": "e42823c0-8d5f-4e01-b0b2-da229336c167",
   "metadata": {},
   "outputs": [],
   "source": [
    "gh=io.StringIO()"
   ]
  },
  {
   "cell_type": "code",
   "execution_count": 67,
   "id": "82a4f237-90b4-4680-818a-3aa07355b949",
   "metadata": {},
   "outputs": [
    {
     "data": {
      "text/plain": [
       "<_io.StringIO at 0x1f1db263a00>"
      ]
     },
     "execution_count": 67,
     "metadata": {},
     "output_type": "execute_result"
    }
   ],
   "source": [
    "gh"
   ]
  },
  {
   "cell_type": "code",
   "execution_count": 68,
   "id": "79be46ca-e423-4d67-be9c-79634d346412",
   "metadata": {},
   "outputs": [
    {
     "data": {
      "text/plain": [
       "22"
      ]
     },
     "execution_count": 68,
     "metadata": {},
     "output_type": "execute_result"
    }
   ],
   "source": [
    "gh.write(title+'\\n')"
   ]
  },
  {
   "cell_type": "code",
   "execution_count": 69,
   "id": "179cbe25-5228-4d0b-a1e4-9470fa6dca2e",
   "metadata": {},
   "outputs": [],
   "source": [
    "df.to_csv(gh,index=False)"
   ]
  },
  {
   "cell_type": "code",
   "execution_count": 71,
   "id": "5266af0d-25f3-4c89-81c7-627dca617847",
   "metadata": {},
   "outputs": [],
   "source": [
    "with open(dfs,'w') as f:\n",
    "    f.write(gh.getvalue())"
   ]
  },
  {
   "cell_type": "code",
   "execution_count": 73,
   "id": "1295dde3-f228-40f5-8b93-82f93235a295",
   "metadata": {},
   "outputs": [],
   "source": [
    "gh.close()"
   ]
  },
  {
   "cell_type": "code",
   "execution_count": 75,
   "id": "c58f6124-81a6-4f94-8629-0723f2cfb25b",
   "metadata": {},
   "outputs": [
    {
     "name": "stdout",
     "output_type": "stream",
     "text": [
      "Jai Maa Kali_/\\_\n"
     ]
    },
    {
     "name": "stderr",
     "output_type": "stream",
     "text": [
      "<>:1: SyntaxWarning: invalid escape sequence '\\_'\n",
      "<>:1: SyntaxWarning: invalid escape sequence '\\_'\n",
      "C:\\Users\\barad\\AppData\\Local\\Temp\\ipykernel_3468\\2338759233.py:1: SyntaxWarning: invalid escape sequence '\\_'\n",
      "  print('Jai Maa Kali_/\\_')\n"
     ]
    }
   ],
   "source": [
    "print('Jai Maa Kali_/\\_')"
   ]
  },
  {
   "cell_type": "code",
   "execution_count": null,
   "id": "1c1f0930-e039-4f01-a154-4d4cbd45ea24",
   "metadata": {},
   "outputs": [],
   "source": []
  }
 ],
 "metadata": {
  "kernelspec": {
   "display_name": "Python 3 (ipykernel)",
   "language": "python",
   "name": "python3"
  },
  "language_info": {
   "codemirror_mode": {
    "name": "ipython",
    "version": 3
   },
   "file_extension": ".py",
   "mimetype": "text/x-python",
   "name": "python",
   "nbconvert_exporter": "python",
   "pygments_lexer": "ipython3",
   "version": "3.12.7"
  }
 },
 "nbformat": 4,
 "nbformat_minor": 5
}
